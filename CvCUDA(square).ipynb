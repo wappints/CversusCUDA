{
  "nbformat": 4,
  "nbformat_minor": 0,
  "metadata": {
    "colab": {
      "provenance": [],
      "include_colab_link": true
    },
    "kernelspec": {
      "name": "python3",
      "display_name": "Python 3"
    },
    "language_info": {
      "name": "python"
    },
    "accelerator": "GPU"
  },
  "cells": [
    {
      "cell_type": "markdown",
      "metadata": {
        "id": "view-in-github",
        "colab_type": "text"
      },
      "source": [
        "<a href=\"https://colab.research.google.com/github/wappints/CversusCUDA/blob/main/CvCUDA(square).ipynb\" target=\"_parent\"><img src=\"https://colab.research.google.com/assets/colab-badge.svg\" alt=\"Open In Colab\"/></a>"
      ]
    },
    {
      "cell_type": "markdown",
      "source": [
        "# CPU execution time\n"
      ],
      "metadata": {
        "id": "LxgVILSRjUlL"
      }
    },
    {
      "cell_type": "code",
      "source": [
        "%%writefile runs.c\n",
        "const int runs = 30;"
      ],
      "metadata": {
        "colab": {
          "base_uri": "https://localhost:8080/"
        },
        "id": "WpSfmJSCx_Yg",
        "outputId": "348e7691-1325-459f-b9a5-d587d6340bf5"
      },
      "execution_count": null,
      "outputs": [
        {
          "output_type": "stream",
          "name": "stdout",
          "text": [
            "Overwriting runs.c\n"
          ]
        }
      ]
    },
    {
      "cell_type": "code",
      "execution_count": null,
      "metadata": {
        "colab": {
          "base_uri": "https://localhost:8080/"
        },
        "id": "fIm1y4v2gspu",
        "outputId": "b18dcd93-e1d5-4bbc-9c4d-cec5522e17a3"
      },
      "outputs": [
        {
          "output_type": "stream",
          "name": "stdout",
          "text": [
            "Overwriting Q1_SquareTime.c\n"
          ]
        }
      ],
      "source": [
        "%%writefile Q1_SquareTime.c\n",
        "\n",
        "#include <stdio.h>\n",
        "#include <stdlib.h>\n",
        "#include <time.h>\n",
        "#include \"N.c\"\n",
        "#include \"runs.c\"\n",
        "void square(int n, float *h_out, float *h_in) {\n",
        "  for(int i = 0; i < n; i++) {\n",
        "    h_out[i] = h_in[i] * h_in[i];\n",
        "  }\n",
        "}\n",
        "\n",
        "int main() {\n",
        "  const int ARRAY_BYTES = ARRAY_SIZE*sizeof(float);\n",
        "  double total = 0;\n",
        "  float *in, *out;\n",
        "\n",
        "  in = (float*) malloc(ARRAY_BYTES);\n",
        "  out = (float*) malloc(ARRAY_BYTES);\n",
        "\n",
        "  for (int i = 0; i < ARRAY_SIZE; i++) {\n",
        "    in[i] = float(i);\n",
        "  }\n",
        "    \n",
        "\n",
        "  // call C\n",
        "  clock_t start, end;\n",
        "  for (int j = 0; j < runs; j++) {\n",
        "\n",
        "    start = clock();\n",
        "    square(ARRAY_SIZE, out, in);\n",
        "    end = clock();\n",
        "    double time_taken = ((double)(end-start))*1e6/CLOCKS_PER_SEC;\n",
        "    total += time_taken;\n",
        "  }\n",
        "  total = total/runs;\n",
        "  printf(\"Array Size = %d | Execution Time = %f μs | No. of Runs: %d\", ARRAY_SIZE,  total,runs);\n",
        "  return 0;\n",
        "}"
      ]
    },
    {
      "cell_type": "code",
      "source": [
        "%%writefile N.c\n",
        "const int ARRAY_SIZE = 256;"
      ],
      "metadata": {
        "colab": {
          "base_uri": "https://localhost:8080/"
        },
        "id": "-jf79gwbjbKp",
        "outputId": "4f4cd179-8fc8-4100-c8b6-606ccfcbba50"
      },
      "execution_count": null,
      "outputs": [
        {
          "output_type": "stream",
          "name": "stdout",
          "text": [
            "Overwriting N.c\n"
          ]
        }
      ]
    },
    {
      "cell_type": "code",
      "source": [
        "%%shell\n",
        "g++ Q1_SquareTime.c -o Q1_SquareTime\n",
        "./Q1_SquareTime"
      ],
      "metadata": {
        "colab": {
          "base_uri": "https://localhost:8080/"
        },
        "id": "1omfX0_ZnEkp",
        "outputId": "de1fd256-6161-42b9-ee60-ec251a8bac7c"
      },
      "execution_count": null,
      "outputs": [
        {
          "output_type": "stream",
          "name": "stdout",
          "text": [
            "Array Size = 256 | Execution Time = 1.700000 μs | No. of Runs: 30"
          ]
        },
        {
          "output_type": "execute_result",
          "data": {
            "text/plain": []
          },
          "metadata": {},
          "execution_count": 4
        }
      ]
    },
    {
      "cell_type": "code",
      "source": [
        "%%writefile N.c\n",
        "const int ARRAY_SIZE = 512;"
      ],
      "metadata": {
        "id": "UJ2hExvonRgQ",
        "colab": {
          "base_uri": "https://localhost:8080/"
        },
        "outputId": "8494aebb-16c5-4a24-ee69-b5130c4823ec"
      },
      "execution_count": null,
      "outputs": [
        {
          "output_type": "stream",
          "name": "stdout",
          "text": [
            "Overwriting N.c\n"
          ]
        }
      ]
    },
    {
      "cell_type": "code",
      "source": [
        "%%shell\n",
        "g++ Q1_SquareTime.c -o Q1_SquareTime\n",
        "./Q1_SquareTime"
      ],
      "metadata": {
        "colab": {
          "base_uri": "https://localhost:8080/"
        },
        "id": "HemwfdVCtBn6",
        "outputId": "90cf73da-f3f8-4ae5-948c-f2142e650d77"
      },
      "execution_count": null,
      "outputs": [
        {
          "output_type": "stream",
          "name": "stdout",
          "text": [
            "Array Size = 512 | Execution Time = 2.933333 μs | No. of Runs: 30"
          ]
        },
        {
          "output_type": "execute_result",
          "data": {
            "text/plain": []
          },
          "metadata": {},
          "execution_count": 6
        }
      ]
    },
    {
      "cell_type": "code",
      "source": [
        "%%writefile N.c\n",
        "const int ARRAY_SIZE = 1024;"
      ],
      "metadata": {
        "colab": {
          "base_uri": "https://localhost:8080/"
        },
        "id": "jSGGJ-pxtOzu",
        "outputId": "8389b3ed-1eb7-42d7-98ca-cc6bb2645853"
      },
      "execution_count": null,
      "outputs": [
        {
          "output_type": "stream",
          "name": "stdout",
          "text": [
            "Overwriting N.c\n"
          ]
        }
      ]
    },
    {
      "cell_type": "code",
      "source": [
        "%%shell\n",
        "g++ Q1_SquareTime.c -o Q1_SquareTime\n",
        "./Q1_SquareTime"
      ],
      "metadata": {
        "colab": {
          "base_uri": "https://localhost:8080/"
        },
        "id": "DMJDkwyYtTxp",
        "outputId": "3fe1830c-cdcb-4ca2-f84e-a50cf3f3ca42"
      },
      "execution_count": null,
      "outputs": [
        {
          "output_type": "stream",
          "name": "stdout",
          "text": [
            "Array Size = 1024 | Execution Time = 4.700000 μs | No. of Runs: 30"
          ]
        },
        {
          "output_type": "execute_result",
          "data": {
            "text/plain": []
          },
          "metadata": {},
          "execution_count": 8
        }
      ]
    },
    {
      "cell_type": "code",
      "source": [
        "%%writefile N.c\n",
        "const int ARRAY_SIZE = 1048576;"
      ],
      "metadata": {
        "colab": {
          "base_uri": "https://localhost:8080/"
        },
        "id": "2ahP2AcTtgaa",
        "outputId": "54dc1d95-ec49-414c-a425-af4e366cd6a7"
      },
      "execution_count": null,
      "outputs": [
        {
          "output_type": "stream",
          "name": "stdout",
          "text": [
            "Overwriting N.c\n"
          ]
        }
      ]
    },
    {
      "cell_type": "code",
      "source": [
        "%%shell\n",
        "g++ Q1_SquareTime.c -o Q1_SquareTime\n",
        "./Q1_SquareTime"
      ],
      "metadata": {
        "colab": {
          "base_uri": "https://localhost:8080/"
        },
        "id": "auERDJO-tml1",
        "outputId": "883ed1d7-9536-4168-c442-669bc512582d"
      },
      "execution_count": null,
      "outputs": [
        {
          "output_type": "stream",
          "name": "stdout",
          "text": [
            "Array Size = 1048576 | Execution Time = 4437.700000 μs | No. of Runs: 30"
          ]
        },
        {
          "output_type": "execute_result",
          "data": {
            "text/plain": []
          },
          "metadata": {},
          "execution_count": 10
        }
      ]
    },
    {
      "cell_type": "markdown",
      "source": [
        "# CUDA execution time"
      ],
      "metadata": {
        "id": "5hMMvaLuzUNF"
      }
    },
    {
      "cell_type": "code",
      "source": [
        "%%writefile Q2_CSquareTime.cu\n",
        "\n",
        "#include <stdio.h>\n",
        "#include <stdlib.h>\n",
        "#include \"N.c\"\n",
        "#include \"runs.c\"\n",
        "__global__ \n",
        "\n",
        "void square(float *h_out, float *h_in) {\n",
        "  int i = threadIdx.x;\n",
        "  h_out[i] = h_in[i] * h_in[i];\n",
        "}\n",
        "\n",
        "int main() {\n",
        "  const int ARRAY_BYTES = ARRAY_SIZE*sizeof(float);\n",
        "  float *in, *out;\n",
        "  cudaMallocManaged(&in, ARRAY_BYTES);\n",
        "  cudaMallocManaged(&out, ARRAY_BYTES);\n",
        "\n",
        "  for (int i = 0; i < ARRAY_SIZE; i++) {\n",
        "    in[i] = float(i);\n",
        "  }\n",
        "\n",
        "  for (int j = 0; j < runs; j++) {\n",
        "    square<<<1, ARRAY_SIZE>>> (out, in);      \n",
        "    cudaDeviceSynchronize();      \n",
        "  }\n",
        "  cudaFree(in);\n",
        "  cudaFree(out);\n",
        "\n",
        "  printf(\"Array Size = %d | No. of Runs: %d\\n\", ARRAY_SIZE, runs);\n",
        "  return 0;\n",
        "}\n",
        "\n"
      ],
      "metadata": {
        "colab": {
          "base_uri": "https://localhost:8080/"
        },
        "id": "X3icYewAtn3K",
        "outputId": "cb966f5b-7ff5-44c4-d540-454b04a399c7"
      },
      "execution_count": null,
      "outputs": [
        {
          "output_type": "stream",
          "name": "stdout",
          "text": [
            "Overwriting Q2_CSquareTime.cu\n"
          ]
        }
      ]
    },
    {
      "cell_type": "code",
      "source": [
        "%%writefile N.c\n",
        "const int ARRAY_SIZE = 256;"
      ],
      "metadata": {
        "colab": {
          "base_uri": "https://localhost:8080/"
        },
        "id": "qCVLO2dzuKqY",
        "outputId": "cd867e0a-5d69-451a-e239-271aaf284c4c"
      },
      "execution_count": null,
      "outputs": [
        {
          "output_type": "stream",
          "name": "stdout",
          "text": [
            "Overwriting N.c\n"
          ]
        }
      ]
    },
    {
      "cell_type": "code",
      "source": [
        "%%shell\n",
        "nvcc Q2_CSquareTime.cu -o Q2_CSquareTime\n",
        "nvprof ./Q2_CSquareTime"
      ],
      "metadata": {
        "colab": {
          "base_uri": "https://localhost:8080/"
        },
        "id": "oBweDSrIuNAe",
        "outputId": "f4b59761-52bc-4923-e6c3-785815eb24ed"
      },
      "execution_count": null,
      "outputs": [
        {
          "output_type": "stream",
          "name": "stdout",
          "text": [
            "==19009== NVPROF is profiling process 19009, command: ./Q2_CSquareTime\n",
            "Array Size = 256 | No. of Runs: 30\n",
            "==19009== Profiling application: ./Q2_CSquareTime\n",
            "==19009== Profiling result:\n",
            "            Type  Time(%)      Time     Calls       Avg       Min       Max  Name\n",
            " GPU activities:  100.00%  302.33us        30  10.077us  3.9680us  184.70us  square(float*, float*)\n",
            "      API calls:   99.60%  410.18ms         2  205.09ms  18.970us  410.17ms  cudaMallocManaged\n",
            "                    0.15%  612.37us         1  612.37us  612.37us  612.37us  cuDeviceTotalMem\n",
            "                    0.11%  435.73us        30  14.524us  7.6990us  195.84us  cudaDeviceSynchronize\n",
            "                    0.06%  250.08us        30  8.3360us  5.9790us  52.078us  cudaLaunchKernel\n",
            "                    0.05%  217.32us       101  2.1510us     257ns  87.720us  cuDeviceGetAttribute\n",
            "                    0.02%  100.38us         2  50.190us  29.340us  71.040us  cudaFree\n",
            "                    0.01%  36.347us         1  36.347us  36.347us  36.347us  cuDeviceGetName\n",
            "                    0.00%  7.1070us         1  7.1070us  7.1070us  7.1070us  cuDeviceGetPCIBusId\n",
            "                    0.00%  2.2830us         3     761ns     325ns  1.3490us  cuDeviceGetCount\n",
            "                    0.00%  1.3580us         2     679ns     369ns     989ns  cuDeviceGet\n",
            "                    0.00%     376ns         1     376ns     376ns     376ns  cuDeviceGetUuid\n",
            "\n",
            "==19009== Unified Memory profiling result:\n",
            "Device \"Tesla T4 (0)\"\n",
            "   Count  Avg Size  Min Size  Max Size  Total Size  Total Time  Name\n",
            "       2  32.000KB  4.0000KB  60.000KB  64.00000KB  11.20000us  Host To Device\n",
            "       1         -         -         -           -  178.3010us  Gpu page fault groups\n",
            "Total CPU Page faults: 1\n"
          ]
        },
        {
          "output_type": "execute_result",
          "data": {
            "text/plain": []
          },
          "metadata": {},
          "execution_count": 13
        }
      ]
    },
    {
      "cell_type": "code",
      "source": [
        "%%writefile N.c\n",
        "const int ARRAY_SIZE = 512;"
      ],
      "metadata": {
        "id": "4ggx5OObuVeN",
        "colab": {
          "base_uri": "https://localhost:8080/"
        },
        "outputId": "b3c21e87-d151-4644-dedc-3ca148adfbd5"
      },
      "execution_count": null,
      "outputs": [
        {
          "output_type": "stream",
          "name": "stdout",
          "text": [
            "Overwriting N.c\n"
          ]
        }
      ]
    },
    {
      "cell_type": "code",
      "source": [
        "%%shell\n",
        "nvcc Q2_CSquareTime.cu -o Q2_CSquareTime\n",
        "nvprof ./Q2_CSquareTime"
      ],
      "metadata": {
        "id": "SbJFc2eSxqc6",
        "colab": {
          "base_uri": "https://localhost:8080/"
        },
        "outputId": "b0b1c749-3230-45a7-e768-dc63a42b3e38"
      },
      "execution_count": null,
      "outputs": [
        {
          "output_type": "stream",
          "name": "stdout",
          "text": [
            "==19053== NVPROF is profiling process 19053, command: ./Q2_CSquareTime\n",
            "Array Size = 512 | No. of Runs: 30\n",
            "==19053== Profiling application: ./Q2_CSquareTime\n",
            "==19053== Profiling result:\n",
            "            Type  Time(%)      Time     Calls       Avg       Min       Max  Name\n",
            " GPU activities:  100.00%  291.90us        30  9.7290us  4.0960us  170.97us  square(float*, float*)\n",
            "      API calls:   99.59%  414.17ms         2  207.09ms  21.385us  414.15ms  cudaMallocManaged\n",
            "                    0.15%  608.02us         1  608.02us  608.02us  608.02us  cuDeviceTotalMem\n",
            "                    0.11%  457.98us        30  15.266us  8.0580us  181.42us  cudaDeviceSynchronize\n",
            "                    0.06%  247.67us        30  8.2550us  6.0620us  46.871us  cudaLaunchKernel\n",
            "                    0.06%  231.27us       101  2.2890us     176ns  103.96us  cuDeviceGetAttribute\n",
            "                    0.03%  107.93us         2  53.962us  31.020us  76.905us  cudaFree\n",
            "                    0.01%  37.008us         1  37.008us  37.008us  37.008us  cuDeviceGetName\n",
            "                    0.00%  7.7250us         1  7.7250us  7.7250us  7.7250us  cuDeviceGetPCIBusId\n",
            "                    0.00%  2.0810us         3     693ns     345ns  1.3880us  cuDeviceGetCount\n",
            "                    0.00%  1.2370us         2     618ns     296ns     941ns  cuDeviceGet\n",
            "                    0.00%     442ns         1     442ns     442ns     442ns  cuDeviceGetUuid\n",
            "\n",
            "==19053== Unified Memory profiling result:\n",
            "Device \"Tesla T4 (0)\"\n",
            "   Count  Avg Size  Min Size  Max Size  Total Size  Total Time  Name\n",
            "       2  32.000KB  4.0000KB  60.000KB  64.00000KB  11.52000us  Host To Device\n",
            "       1         -         -         -           -  164.5090us  Gpu page fault groups\n",
            "Total CPU Page faults: 1\n"
          ]
        },
        {
          "output_type": "execute_result",
          "data": {
            "text/plain": []
          },
          "metadata": {},
          "execution_count": 15
        }
      ]
    },
    {
      "cell_type": "code",
      "source": [
        "%%writefile N.c\n",
        "const int ARRAY_SIZE = 1024;"
      ],
      "metadata": {
        "id": "tZ8r2h8cxrwz",
        "colab": {
          "base_uri": "https://localhost:8080/"
        },
        "outputId": "40f15130-5235-47d3-9d50-02c5ed4d34ea"
      },
      "execution_count": null,
      "outputs": [
        {
          "output_type": "stream",
          "name": "stdout",
          "text": [
            "Overwriting N.c\n"
          ]
        }
      ]
    },
    {
      "cell_type": "code",
      "source": [
        "%%shell\n",
        "nvcc Q2_CSquareTime.cu -o Q2_CSquareTime\n",
        "nvprof ./Q2_CSquareTime"
      ],
      "metadata": {
        "id": "XJjtfBaixt1p",
        "colab": {
          "base_uri": "https://localhost:8080/"
        },
        "outputId": "8df595a2-bed7-40be-dd8f-99d4e1afdc93"
      },
      "execution_count": null,
      "outputs": [
        {
          "output_type": "stream",
          "name": "stdout",
          "text": [
            "==19099== NVPROF is profiling process 19099, command: ./Q2_CSquareTime\n",
            "Array Size = 1024 | No. of Runs: 30\n",
            "==19099== Profiling application: ./Q2_CSquareTime\n",
            "==19099== Profiling result:\n",
            "            Type  Time(%)      Time     Calls       Avg       Min       Max  Name\n",
            " GPU activities:  100.00%  324.35us        30  10.811us  4.2880us  197.02us  square(float*, float*)\n",
            "      API calls:   99.75%  696.11ms         2  348.06ms  31.527us  696.08ms  cudaMallocManaged\n",
            "                    0.09%  600.19us         1  600.19us  600.19us  600.19us  cuDeviceTotalMem\n",
            "                    0.07%  465.32us        30  15.510us  6.9080us  206.58us  cudaDeviceSynchronize\n",
            "                    0.04%  265.10us        30  8.8360us  6.1490us  47.103us  cudaLaunchKernel\n",
            "                    0.03%  235.29us       101  2.3290us     228ns  91.501us  cuDeviceGetAttribute\n",
            "                    0.02%  133.38us         2  66.689us  41.450us  91.929us  cudaFree\n",
            "                    0.01%  36.863us         1  36.863us  36.863us  36.863us  cuDeviceGetName\n",
            "                    0.00%  8.3210us         1  8.3210us  8.3210us  8.3210us  cuDeviceGetPCIBusId\n",
            "                    0.00%  2.4380us         3     812ns     378ns  1.2500us  cuDeviceGetCount\n",
            "                    0.00%  1.8570us         2     928ns     525ns  1.3320us  cuDeviceGet\n",
            "                    0.00%     392ns         1     392ns     392ns     392ns  cuDeviceGetUuid\n",
            "\n",
            "==19099== Unified Memory profiling result:\n",
            "Device \"Tesla T4 (0)\"\n",
            "   Count  Avg Size  Min Size  Max Size  Total Size  Total Time  Name\n",
            "       2  32.000KB  4.0000KB  60.000KB  64.00000KB  11.48700us  Host To Device\n",
            "       1         -         -         -           -  189.2770us  Gpu page fault groups\n",
            "Total CPU Page faults: 1\n"
          ]
        },
        {
          "output_type": "execute_result",
          "data": {
            "text/plain": []
          },
          "metadata": {},
          "execution_count": 17
        }
      ]
    },
    {
      "cell_type": "code",
      "source": [
        "%%writefile N.c\n",
        "const int ARRAY_SIZE = 1048576;"
      ],
      "metadata": {
        "id": "EYZ9lRqhxvUm",
        "colab": {
          "base_uri": "https://localhost:8080/"
        },
        "outputId": "306f94e0-564f-439d-e3d1-569e38d37938"
      },
      "execution_count": null,
      "outputs": [
        {
          "output_type": "stream",
          "name": "stdout",
          "text": [
            "Overwriting N.c\n"
          ]
        }
      ]
    },
    {
      "cell_type": "code",
      "source": [
        "%%shell\n",
        "nvcc Q2_CSquareTime.cu -o Q2_CSquareTime\n",
        "nvprof ./Q2_CSquareTime"
      ],
      "metadata": {
        "id": "231VO0dTxxvb",
        "colab": {
          "base_uri": "https://localhost:8080/"
        },
        "outputId": "b06f808f-2796-49e8-c7ca-b8b8d23effe0"
      },
      "execution_count": null,
      "outputs": [
        {
          "output_type": "stream",
          "name": "stdout",
          "text": [
            "==19145== NVPROF is profiling process 19145, command: ./Q2_CSquareTime\n",
            "Array Size = 1048576 | No. of Runs: 30\n",
            "==19145== Profiling application: ./Q2_CSquareTime\n",
            "==19145== Profiling result:\n",
            "No kernels were profiled.\n",
            "            Type  Time(%)      Time     Calls       Avg       Min       Max  Name\n",
            "      API calls:   99.66%  381.50ms         2  190.75ms  48.856us  381.45ms  cudaMallocManaged\n",
            "                    0.15%  575.75us         1  575.75us  575.75us  575.75us  cuDeviceTotalMem\n",
            "                    0.08%  308.01us         2  154.00us  25.849us  282.16us  cudaFree\n",
            "                    0.07%  275.91us       101  2.7310us     281ns  134.66us  cuDeviceGetAttribute\n",
            "                    0.02%  60.377us        30  2.0120us  1.5750us  12.983us  cudaDeviceSynchronize\n",
            "                    0.01%  37.727us         1  37.727us  37.727us  37.727us  cuDeviceGetName\n",
            "                    0.00%  14.107us        30     470ns     368ns  2.6660us  cudaLaunchKernel\n",
            "                    0.00%  6.6300us         1  6.6300us  6.6300us  6.6300us  cuDeviceGetPCIBusId\n",
            "                    0.00%  2.6050us         3     868ns     385ns  1.6760us  cuDeviceGetCount\n",
            "                    0.00%  1.4090us         2     704ns     356ns  1.0530us  cuDeviceGet\n",
            "                    0.00%     456ns         1     456ns     456ns     456ns  cuDeviceGetUuid\n",
            "\n",
            "==19145== Unified Memory profiling result:\n",
            "Total CPU Page faults: 12\n"
          ]
        },
        {
          "output_type": "execute_result",
          "data": {
            "text/plain": []
          },
          "metadata": {},
          "execution_count": 19
        }
      ]
    },
    {
      "cell_type": "markdown",
      "source": [
        "#Grid-stride execution time"
      ],
      "metadata": {
        "id": "IIwFB_Y0zsR1"
      }
    },
    {
      "cell_type": "markdown",
      "source": [
        "## CPU\n"
      ],
      "metadata": {
        "id": "JAEruFZPz1K-"
      }
    },
    {
      "cell_type": "code",
      "source": [
        "%%writefile Q3_CPUGridStride.c\n",
        "\n",
        "#include <stdio.h>\n",
        "#include <stdlib.h>\n",
        "#include <time.h>\n",
        "#include \"N.c\"\n",
        "#include \"runs.c\"\n",
        "void square(int n, float *h_out, float *h_in) {\n",
        "  for(int i = 0; i < n; i++) {\n",
        "    h_out[i] = h_in[i] * h_in[i];\n",
        "  }\n",
        "}\n",
        "\n",
        "int main() {\n",
        "  const int ARRAY_BYTES = ARRAY_SIZE*sizeof(float);\n",
        "  double total = 0;\n",
        "  float *in, *out;\n",
        "\n",
        "  in = (float*) malloc(ARRAY_BYTES);\n",
        "  out = (float*) malloc(ARRAY_BYTES);\n",
        "\n",
        "  for (int i = 0; i < ARRAY_SIZE; i++) {\n",
        "    in[i] = float(i);\n",
        "  }\n",
        "    \n",
        "  // call C\n",
        "  clock_t start, end;\n",
        "  for (int j = 0; j < runs; j++) {\n",
        "\n",
        "    start = clock();\n",
        "    square(ARRAY_SIZE, out, in);\n",
        "    end = clock();\n",
        "    double time_taken = ((double)(end-start))*1e6/CLOCKS_PER_SEC;\n",
        "    total += time_taken;\n",
        "  }\n",
        "  total = total/runs;\n",
        "  printf(\"Array Size = %d | Execution Time = %f μs | No. of Runs: %d\", ARRAY_SIZE,  total,runs);\n",
        "  return 0;\n",
        "}\n"
      ],
      "metadata": {
        "id": "qTxaxRAMz0Rw",
        "colab": {
          "base_uri": "https://localhost:8080/"
        },
        "outputId": "174d68ac-8ae6-4f52-b254-816d76759136"
      },
      "execution_count": null,
      "outputs": [
        {
          "output_type": "stream",
          "name": "stdout",
          "text": [
            "Overwriting Q3_CPUGridStride.c\n"
          ]
        }
      ]
    },
    {
      "cell_type": "code",
      "source": [
        "%%writefile N.c\n",
        "const int ARRAY_SIZE = 1<<20;"
      ],
      "metadata": {
        "id": "GNaE2V-A5dkT",
        "colab": {
          "base_uri": "https://localhost:8080/"
        },
        "outputId": "99c90839-6c19-411f-cdf3-a5e8770ca928"
      },
      "execution_count": null,
      "outputs": [
        {
          "output_type": "stream",
          "name": "stdout",
          "text": [
            "Overwriting N.c\n"
          ]
        }
      ]
    },
    {
      "cell_type": "code",
      "source": [
        "%%shell\n",
        "g++ Q3_CPUGridStride.c -o Q3_CPUGridStride\n",
        "./Q3_CPUGridStride"
      ],
      "metadata": {
        "id": "mk6Xc6j35m9T",
        "colab": {
          "base_uri": "https://localhost:8080/"
        },
        "outputId": "b2cc70fd-e36a-44f2-b446-df869124716c"
      },
      "execution_count": null,
      "outputs": [
        {
          "output_type": "stream",
          "name": "stdout",
          "text": [
            "Array Size = 1048576 | Execution Time = 4513.966667 μs | No. of Runs: 30"
          ]
        },
        {
          "output_type": "execute_result",
          "data": {
            "text/plain": []
          },
          "metadata": {},
          "execution_count": 22
        }
      ]
    },
    {
      "cell_type": "code",
      "source": [
        "%%writefile N.c\n",
        "const int ARRAY_SIZE = 1<<22;"
      ],
      "metadata": {
        "id": "h6GbFTLfA557",
        "colab": {
          "base_uri": "https://localhost:8080/"
        },
        "outputId": "25a47258-43a0-46fd-a8ba-d67de672d030"
      },
      "execution_count": null,
      "outputs": [
        {
          "output_type": "stream",
          "name": "stdout",
          "text": [
            "Overwriting N.c\n"
          ]
        }
      ]
    },
    {
      "cell_type": "code",
      "source": [
        "%%shell\n",
        "g++ Q3_CPUGridStride.c -o Q3_CPUGridStride\n",
        "./Q3_CPUGridStride"
      ],
      "metadata": {
        "id": "iSq2E82PA6Br",
        "colab": {
          "base_uri": "https://localhost:8080/"
        },
        "outputId": "53dff10a-8314-4bf9-b154-5c07c3cc81c2"
      },
      "execution_count": null,
      "outputs": [
        {
          "output_type": "stream",
          "name": "stdout",
          "text": [
            "Array Size = 4194304 | Execution Time = 18915.666667 μs | No. of Runs: 30"
          ]
        },
        {
          "output_type": "execute_result",
          "data": {
            "text/plain": []
          },
          "metadata": {},
          "execution_count": 24
        }
      ]
    },
    {
      "cell_type": "code",
      "source": [
        "%%writefile N.c\n",
        "const int ARRAY_SIZE = 1<<24;"
      ],
      "metadata": {
        "id": "GSe0p8RMA6TF",
        "colab": {
          "base_uri": "https://localhost:8080/"
        },
        "outputId": "04af6f0e-18a6-4f75-9582-3baf273a08b1"
      },
      "execution_count": null,
      "outputs": [
        {
          "output_type": "stream",
          "name": "stdout",
          "text": [
            "Overwriting N.c\n"
          ]
        }
      ]
    },
    {
      "cell_type": "code",
      "source": [
        "%%shell\n",
        "g++ Q3_CPUGridStride.c -o Q3_CPUGridStride\n",
        "./Q3_CPUGridStride"
      ],
      "metadata": {
        "id": "7_mb24fzA6YU",
        "colab": {
          "base_uri": "https://localhost:8080/"
        },
        "outputId": "c9e00e3e-579e-42da-abb8-d2c047c5b5ea"
      },
      "execution_count": null,
      "outputs": [
        {
          "output_type": "stream",
          "name": "stdout",
          "text": [
            "Array Size = 16777216 | Execution Time = 74964.300000 μs | No. of Runs: 30"
          ]
        },
        {
          "output_type": "execute_result",
          "data": {
            "text/plain": []
          },
          "metadata": {},
          "execution_count": 26
        }
      ]
    },
    {
      "cell_type": "markdown",
      "source": [
        "##GPU"
      ],
      "metadata": {
        "id": "ZrIWw_xdz3w9"
      }
    },
    {
      "cell_type": "code",
      "source": [
        "%%writefile Q3_GPUGridStride.cu\n",
        "\n",
        "\n",
        "#include <stdio.h>\n",
        "#include <stdlib.h>\n",
        "#include \"N.c\"\n",
        "#include \"runs.c\"\n",
        "#include \"blocksize.c\"\n",
        "\n",
        "__global__\n",
        "void square(float *h_out, float *h_in, int n) {\n",
        "  int index = blockIdx.x * blockDim.x + threadIdx.x;    \n",
        "  int stride = blockDim.x * gridDim.x;  \n",
        "\n",
        "  for (int i=index; i < n; i+=stride)   \n",
        "     h_out[i] = h_in[i] * h_in[i];\n",
        "}\n",
        "\n",
        "int main() {\n",
        "  const int ARRAY_BYTES = ARRAY_SIZE*sizeof(float);\n",
        "  int numBlocks = (ARRAY_BYTES+numThreads-1)/numThreads;\n",
        "  float *in, *out;\n",
        "  cudaMallocManaged(&in, ARRAY_BYTES);\n",
        "  cudaMallocManaged(&out, ARRAY_BYTES);\n",
        "\n",
        "  for (int i = 0; i < ARRAY_SIZE; i++) {\n",
        "      in[i] = float(i);\n",
        "  }\n",
        "  \n",
        "  for (int j = 0; j < runs; j++) {\n",
        "    square<<<numBlocks, numThreads>>>(out, in, ARRAY_SIZE);\n",
        "    cudaDeviceSynchronize();\n",
        "  }\n",
        "  \n",
        "    // free memory\n",
        "  cudaFree(in);\n",
        "  cudaFree(out);\n",
        "\n",
        "  printf(\"Array Size = %d |  No. of Runs: %d\\n\", ARRAY_SIZE, runs);\n",
        "  return 0;\n",
        "}"
      ],
      "metadata": {
        "id": "XB1KIyk8z6Pb",
        "colab": {
          "base_uri": "https://localhost:8080/"
        },
        "outputId": "b50d82f5-f432-4866-8722-aeb94aef4cdc"
      },
      "execution_count": null,
      "outputs": [
        {
          "output_type": "stream",
          "name": "stdout",
          "text": [
            "Overwriting Q3_GPUGridStride.cu\n"
          ]
        }
      ]
    },
    {
      "cell_type": "code",
      "source": [
        "%%writefile blocksize.c\n",
        "const int numThreads = 256;"
      ],
      "metadata": {
        "id": "7456A2TcDk9x",
        "colab": {
          "base_uri": "https://localhost:8080/"
        },
        "outputId": "6483a60f-cd07-4aa7-8de7-5b880e3acf97"
      },
      "execution_count": null,
      "outputs": [
        {
          "output_type": "stream",
          "name": "stdout",
          "text": [
            "Overwriting blocksize.c\n"
          ]
        }
      ]
    },
    {
      "cell_type": "code",
      "source": [
        "%%writefile N.c\n",
        "const int ARRAY_SIZE = 1<<20;"
      ],
      "metadata": {
        "id": "a0MbFDBGDUkR",
        "colab": {
          "base_uri": "https://localhost:8080/"
        },
        "outputId": "6b66f7a7-cca6-4e8e-a07d-0cac4181828d"
      },
      "execution_count": null,
      "outputs": [
        {
          "output_type": "stream",
          "name": "stdout",
          "text": [
            "Overwriting N.c\n"
          ]
        }
      ]
    },
    {
      "cell_type": "code",
      "source": [
        "%%shell\n",
        "nvcc Q3_GPUGridStride.cu -o Q3_GPUGridStride\n",
        "nvprof ./Q3_GPUGridStride"
      ],
      "metadata": {
        "id": "xucgTgQmDZ-o",
        "colab": {
          "base_uri": "https://localhost:8080/"
        },
        "outputId": "c97e071e-2935-4cdf-a259-6c8d6e662efa"
      },
      "execution_count": null,
      "outputs": [
        {
          "output_type": "stream",
          "name": "stdout",
          "text": [
            "==19207== NVPROF is profiling process 19207, command: ./Q3_GPUGridStride\n",
            "Array Size = 1048576 |  No. of Runs: 30\n",
            "==19207== Profiling application: ./Q3_GPUGridStride\n",
            "==19207== Profiling result:\n",
            "            Type  Time(%)      Time     Calls       Avg       Min       Max  Name\n",
            " GPU activities:  100.00%  5.7304ms        30  191.01us  109.28us  2.5528ms  square(float*, float*, int)\n",
            "      API calls:   98.18%  411.82ms         2  205.91ms  53.679us  411.76ms  cudaMallocManaged\n",
            "                    1.40%  5.8748ms        30  195.83us  113.42us  2.5621ms  cudaDeviceSynchronize\n",
            "                    0.15%  619.29us         2  309.65us  172.59us  446.70us  cudaFree\n",
            "                    0.14%  581.81us         1  581.81us  581.81us  581.81us  cuDeviceTotalMem\n",
            "                    0.06%  268.26us        30  8.9410us  5.9430us  48.526us  cudaLaunchKernel\n",
            "                    0.05%  220.65us       101  2.1840us     187ns  93.487us  cuDeviceGetAttribute\n",
            "                    0.01%  50.334us         1  50.334us  50.334us  50.334us  cuDeviceGetName\n",
            "                    0.00%  8.2950us         1  8.2950us  8.2950us  8.2950us  cuDeviceGetPCIBusId\n",
            "                    0.00%  2.5940us         3     864ns     386ns  1.6200us  cuDeviceGetCount\n",
            "                    0.00%  2.2390us         2  1.1190us     398ns  1.8410us  cuDeviceGet\n",
            "                    0.00%     452ns         1     452ns     452ns     452ns  cuDeviceGetUuid\n",
            "\n",
            "==19207== Unified Memory profiling result:\n",
            "Device \"Tesla T4 (0)\"\n",
            "   Count  Avg Size  Min Size  Max Size  Total Size  Total Time  Name\n",
            "      34  120.47KB  4.0000KB  964.00KB  4.000000MB  441.7530us  Host To Device\n",
            "      19         -         -         -           -  2.432630ms  Gpu page fault groups\n",
            "Total CPU Page faults: 12\n"
          ]
        },
        {
          "output_type": "execute_result",
          "data": {
            "text/plain": []
          },
          "metadata": {},
          "execution_count": 30
        }
      ]
    },
    {
      "cell_type": "code",
      "source": [
        "%%writefile N.c\n",
        "const int ARRAY_SIZE = 1<<22;"
      ],
      "metadata": {
        "id": "dKIc5gsoPvez",
        "colab": {
          "base_uri": "https://localhost:8080/"
        },
        "outputId": "8a603688-556e-415a-e4dc-280502a823fd"
      },
      "execution_count": null,
      "outputs": [
        {
          "output_type": "stream",
          "name": "stdout",
          "text": [
            "Overwriting N.c\n"
          ]
        }
      ]
    },
    {
      "cell_type": "code",
      "source": [
        "%%shell\n",
        "nvcc Q3_GPUGridStride.cu -o Q3_GPUGridStride\n",
        "nvprof ./Q3_GPUGridStride"
      ],
      "metadata": {
        "id": "IanUu3DMPxtg",
        "colab": {
          "base_uri": "https://localhost:8080/"
        },
        "outputId": "6a100dc7-8792-4794-b531-e14377f0a549"
      },
      "execution_count": null,
      "outputs": [
        {
          "output_type": "stream",
          "name": "stdout",
          "text": [
            "==19251== NVPROF is profiling process 19251, command: ./Q3_GPUGridStride\n",
            "Array Size = 4194304 |  No. of Runs: 30\n",
            "==19251== Profiling application: ./Q3_GPUGridStride\n",
            "==19251== Profiling result:\n",
            "            Type  Time(%)      Time     Calls       Avg       Min       Max  Name\n",
            " GPU activities:  100.00%  25.636ms        30  854.53us  423.83us  13.328ms  square(float*, float*, int)\n",
            "      API calls:   92.89%  397.06ms         2  198.53ms  61.523us  396.99ms  cudaMallocManaged\n",
            "                    6.27%  26.790ms        30  893.00us  419.65us  14.314ms  cudaDeviceSynchronize\n",
            "                    0.54%  2.3280ms         2  1.1640ms  780.87us  1.5471ms  cudaFree\n",
            "                    0.14%  603.96us         1  603.96us  603.96us  603.96us  cuDeviceTotalMem\n",
            "                    0.09%  375.82us        30  12.527us  6.1920us  58.169us  cudaLaunchKernel\n",
            "                    0.05%  217.34us       101  2.1510us     282ns  88.701us  cuDeviceGetAttribute\n",
            "                    0.01%  51.445us         1  51.445us  51.445us  51.445us  cuDeviceGetName\n",
            "                    0.00%  8.7120us         1  8.7120us  8.7120us  8.7120us  cuDeviceGetPCIBusId\n",
            "                    0.00%  2.0470us         3     682ns     335ns  1.0240us  cuDeviceGetCount\n",
            "                    0.00%  1.8290us         2     914ns     366ns  1.4630us  cuDeviceGet\n",
            "                    0.00%     456ns         1     456ns     456ns     456ns  cuDeviceGetUuid\n",
            "\n",
            "==19251== Unified Memory profiling result:\n",
            "Device \"Tesla T4 (0)\"\n",
            "   Count  Avg Size  Min Size  Max Size  Total Size  Total Time  Name\n",
            "     184  89.043KB  4.0000KB  964.00KB  16.00000MB  1.908705ms  Host To Device\n",
            "      79         -         -         -           -  12.86963ms  Gpu page fault groups\n",
            "Total CPU Page faults: 48\n"
          ]
        },
        {
          "output_type": "execute_result",
          "data": {
            "text/plain": []
          },
          "metadata": {},
          "execution_count": 32
        }
      ]
    },
    {
      "cell_type": "code",
      "source": [
        "%%writefile N.c\n",
        "const int ARRAY_SIZE = 1<<24;"
      ],
      "metadata": {
        "id": "8cE-jmtZP1Vs",
        "colab": {
          "base_uri": "https://localhost:8080/"
        },
        "outputId": "9db4cf63-127e-40ef-a6cb-0976e48540b6"
      },
      "execution_count": null,
      "outputs": [
        {
          "output_type": "stream",
          "name": "stdout",
          "text": [
            "Overwriting N.c\n"
          ]
        }
      ]
    },
    {
      "cell_type": "code",
      "source": [
        "%%shell\n",
        "nvcc Q3_GPUGridStride.cu -o Q3_GPUGridStride\n",
        "nvprof ./Q3_GPUGridStride"
      ],
      "metadata": {
        "id": "gPW2gfhKP2Zm",
        "colab": {
          "base_uri": "https://localhost:8080/"
        },
        "outputId": "bd4b0ec4-6950-4901-cb16-a4751e560193"
      },
      "execution_count": null,
      "outputs": [
        {
          "output_type": "stream",
          "name": "stdout",
          "text": [
            "==19295== NVPROF is profiling process 19295, command: ./Q3_GPUGridStride\n",
            "Array Size = 16777216 |  No. of Runs: 30\n",
            "==19295== Profiling application: ./Q3_GPUGridStride\n",
            "==19295== Profiling result:\n",
            "            Type  Time(%)      Time     Calls       Avg       Min       Max  Name\n",
            " GPU activities:  100.00%  107.25ms        30  3.5749ms  1.6808ms  58.469ms  square(float*, float*, int)\n",
            "      API calls:   76.51%  387.58ms         2  193.79ms  51.139us  387.52ms  cudaMallocManaged\n",
            "                   21.46%  108.70ms        30  3.6233ms  1.6847ms  58.483ms  cudaDeviceSynchronize\n",
            "                    1.77%  8.9777ms         2  4.4888ms  3.1962ms  5.7815ms  cudaFree\n",
            "                    0.12%  590.50us         1  590.50us  590.50us  590.50us  cuDeviceTotalMem\n",
            "                    0.10%  488.16us        30  16.271us  7.6650us  72.336us  cudaLaunchKernel\n",
            "                    0.04%  225.26us       101  2.2300us     276ns  95.072us  cuDeviceGetAttribute\n",
            "                    0.01%  32.963us         1  32.963us  32.963us  32.963us  cuDeviceGetName\n",
            "                    0.00%  7.0460us         1  7.0460us  7.0460us  7.0460us  cuDeviceGetPCIBusId\n",
            "                    0.00%  1.8910us         3     630ns     330ns  1.1500us  cuDeviceGetCount\n",
            "                    0.00%  1.3090us         2     654ns     358ns     951ns  cuDeviceGet\n",
            "                    0.00%     442ns         1     442ns     442ns     442ns  cuDeviceGetUuid\n",
            "\n",
            "==19295== Unified Memory profiling result:\n",
            "Device \"Tesla T4 (0)\"\n",
            "   Count  Avg Size  Min Size  Max Size  Total Size  Total Time  Name\n",
            "     716  91.530KB  4.0000KB  992.00KB  64.00000MB  7.720586ms  Host To Device\n",
            "     327         -         -         -           -  57.61311ms  Gpu page fault groups\n",
            "Total CPU Page faults: 192\n"
          ]
        },
        {
          "output_type": "execute_result",
          "data": {
            "text/plain": []
          },
          "metadata": {},
          "execution_count": 34
        }
      ]
    },
    {
      "cell_type": "code",
      "source": [
        "%%writefile blocksize.c\n",
        "const int numThreads = 512;"
      ],
      "metadata": {
        "id": "-Eg1r4YUDcHd",
        "colab": {
          "base_uri": "https://localhost:8080/"
        },
        "outputId": "4353502e-0405-4d52-b7eb-7715c710cf07"
      },
      "execution_count": null,
      "outputs": [
        {
          "output_type": "stream",
          "name": "stdout",
          "text": [
            "Overwriting blocksize.c\n"
          ]
        }
      ]
    },
    {
      "cell_type": "code",
      "source": [
        "%%writefile N.c\n",
        "const int ARRAY_SIZE = 1<<20;"
      ],
      "metadata": {
        "id": "96vmuPn-P55I",
        "colab": {
          "base_uri": "https://localhost:8080/"
        },
        "outputId": "758ccfde-1bec-4876-9179-ef515b079949"
      },
      "execution_count": null,
      "outputs": [
        {
          "output_type": "stream",
          "name": "stdout",
          "text": [
            "Overwriting N.c\n"
          ]
        }
      ]
    },
    {
      "cell_type": "code",
      "source": [
        "%%shell\n",
        "nvcc Q3_GPUGridStride.cu -o Q3_GPUGridStride\n",
        "nvprof ./Q3_GPUGridStride"
      ],
      "metadata": {
        "id": "AJP-RqIhPd-L",
        "colab": {
          "base_uri": "https://localhost:8080/"
        },
        "outputId": "75a10591-a91b-4c73-ad46-453da34cd9f1"
      },
      "execution_count": null,
      "outputs": [
        {
          "output_type": "stream",
          "name": "stdout",
          "text": [
            "==19341== NVPROF is profiling process 19341, command: ./Q3_GPUGridStride\n",
            "Array Size = 1048576 |  No. of Runs: 30\n",
            "==19341== Profiling application: ./Q3_GPUGridStride\n",
            "==19341== Profiling result:\n",
            "            Type  Time(%)      Time     Calls       Avg       Min       Max  Name\n",
            " GPU activities:  100.00%  5.7875ms        30  192.92us  110.05us  2.5674ms  square(float*, float*, int)\n",
            "      API calls:   98.03%  375.21ms         2  187.61ms  43.710us  375.17ms  cudaMallocManaged\n",
            "                    1.55%  5.9203ms        30  197.34us  113.94us  2.5760ms  cudaDeviceSynchronize\n",
            "                    0.14%  549.58us         1  549.58us  549.58us  549.58us  cuDeviceTotalMem\n",
            "                    0.14%  544.13us         2  272.07us  153.30us  390.84us  cudaFree\n",
            "                    0.07%  266.40us        30  8.8800us  5.5990us  47.442us  cudaLaunchKernel\n",
            "                    0.05%  208.19us       101  2.0610us     266ns  85.127us  cuDeviceGetAttribute\n",
            "                    0.01%  35.264us         1  35.264us  35.264us  35.264us  cuDeviceGetName\n",
            "                    0.00%  7.3500us         1  7.3500us  7.3500us  7.3500us  cuDeviceGetPCIBusId\n",
            "                    0.00%  2.0550us         3     685ns     311ns  1.1740us  cuDeviceGetCount\n",
            "                    0.00%  1.3250us         2     662ns     327ns     998ns  cuDeviceGet\n",
            "                    0.00%     388ns         1     388ns     388ns     388ns  cuDeviceGetUuid\n",
            "\n",
            "==19341== Unified Memory profiling result:\n",
            "Device \"Tesla T4 (0)\"\n",
            "   Count  Avg Size  Min Size  Max Size  Total Size  Total Time  Name\n",
            "      93  44.043KB  4.0000KB  952.00KB  4.000000MB  618.8670us  Host To Device\n",
            "      18         -         -         -           -  2.449462ms  Gpu page fault groups\n",
            "Total CPU Page faults: 12\n"
          ]
        },
        {
          "output_type": "execute_result",
          "data": {
            "text/plain": []
          },
          "metadata": {},
          "execution_count": 37
        }
      ]
    },
    {
      "cell_type": "code",
      "source": [
        "%%writefile N.c\n",
        "const int ARRAY_SIZE = 1<<22;"
      ],
      "metadata": {
        "id": "d_F-DfpcP6vc",
        "colab": {
          "base_uri": "https://localhost:8080/"
        },
        "outputId": "31c3456f-8e12-467b-c664-550f5d44033e"
      },
      "execution_count": null,
      "outputs": [
        {
          "output_type": "stream",
          "name": "stdout",
          "text": [
            "Overwriting N.c\n"
          ]
        }
      ]
    },
    {
      "cell_type": "code",
      "source": [
        "%%shell\n",
        "nvcc Q3_GPUGridStride.cu -o Q3_GPUGridStride\n",
        "nvprof ./Q3_GPUGridStride"
      ],
      "metadata": {
        "id": "ex2_wTrMP7-4",
        "colab": {
          "base_uri": "https://localhost:8080/"
        },
        "outputId": "6165557f-74ab-4048-fc0b-327b7ae37771"
      },
      "execution_count": null,
      "outputs": [
        {
          "output_type": "stream",
          "name": "stdout",
          "text": [
            "==19385== NVPROF is profiling process 19385, command: ./Q3_GPUGridStride\n",
            "Array Size = 4194304 |  No. of Runs: 30\n",
            "==19385== Profiling application: ./Q3_GPUGridStride\n",
            "==19385== Profiling result:\n",
            "            Type  Time(%)      Time     Calls       Avg       Min       Max  Name\n",
            " GPU activities:  100.00%  25.534ms        30  851.12us  464.34us  11.911ms  square(float*, float*, int)\n",
            "      API calls:   93.16%  395.05ms         2  197.52ms  40.100us  395.01ms  cudaMallocManaged\n",
            "                    6.05%  25.663ms        30  855.43us  468.71us  11.922ms  cudaDeviceSynchronize\n",
            "                    0.51%  2.1626ms         2  1.0813ms  767.67us  1.3949ms  cudaFree\n",
            "                    0.15%  619.29us         1  619.29us  619.29us  619.29us  cuDeviceTotalMem\n",
            "                    0.07%  313.36us        30  10.445us  6.2900us  44.454us  cudaLaunchKernel\n",
            "                    0.05%  223.10us       101  2.2080us     293ns  91.105us  cuDeviceGetAttribute\n",
            "                    0.01%  33.162us         1  33.162us  33.162us  33.162us  cuDeviceGetName\n",
            "                    0.00%  7.5000us         1  7.5000us  7.5000us  7.5000us  cuDeviceGetPCIBusId\n",
            "                    0.00%  2.1310us         3     710ns     324ns  1.3660us  cuDeviceGetCount\n",
            "                    0.00%  1.3370us         2     668ns     366ns     971ns  cuDeviceGet\n",
            "                    0.00%     430ns         1     430ns     430ns     430ns  cuDeviceGetUuid\n",
            "\n",
            "==19385== Unified Memory profiling result:\n",
            "Device \"Tesla T4 (0)\"\n",
            "   Count  Avg Size  Min Size  Max Size  Total Size  Total Time  Name\n",
            "     287  57.087KB  4.0000KB  952.00KB  16.00000MB  2.177689ms  Host To Device\n",
            "      73         -         -         -           -  11.43135ms  Gpu page fault groups\n",
            "Total CPU Page faults: 48\n"
          ]
        },
        {
          "output_type": "execute_result",
          "data": {
            "text/plain": []
          },
          "metadata": {},
          "execution_count": 39
        }
      ]
    },
    {
      "cell_type": "code",
      "source": [
        "%%writefile N.c\n",
        "const int ARRAY_SIZE = 1<<24;"
      ],
      "metadata": {
        "id": "78nPvlnOP9J1",
        "colab": {
          "base_uri": "https://localhost:8080/"
        },
        "outputId": "4935f38d-a469-42bf-8bdb-362deffcf789"
      },
      "execution_count": null,
      "outputs": [
        {
          "output_type": "stream",
          "name": "stdout",
          "text": [
            "Overwriting N.c\n"
          ]
        }
      ]
    },
    {
      "cell_type": "code",
      "source": [
        "%%shell\n",
        "nvcc Q3_GPUGridStride.cu -o Q3_GPUGridStride\n",
        "nvprof ./Q3_GPUGridStride"
      ],
      "metadata": {
        "id": "rGN1nFw_P-ff",
        "colab": {
          "base_uri": "https://localhost:8080/"
        },
        "outputId": "ca562a96-d0a4-40fe-8050-759a075aed41"
      },
      "execution_count": null,
      "outputs": [
        {
          "output_type": "stream",
          "name": "stdout",
          "text": [
            "==19429== NVPROF is profiling process 19429, command: ./Q3_GPUGridStride\n",
            "Array Size = 16777216 |  No. of Runs: 30\n",
            "==19429== Profiling application: ./Q3_GPUGridStride\n",
            "==19429== Profiling result:\n",
            "            Type  Time(%)      Time     Calls       Avg       Min       Max  Name\n",
            " GPU activities:  100.00%  97.798ms        30  3.2599ms  1.8491ms  43.571ms  square(float*, float*, int)\n",
            "      API calls:   78.31%  391.31ms         2  195.66ms  62.109us  391.25ms  cudaMallocManaged\n",
            "                   19.61%  97.966ms        30  3.2655ms  1.8534ms  43.586ms  cudaDeviceSynchronize\n",
            "                    1.83%  9.1425ms         2  4.5713ms  3.2609ms  5.8817ms  cudaFree\n",
            "                    0.12%  576.94us         1  576.94us  576.94us  576.94us  cuDeviceTotalMem\n",
            "                    0.08%  402.21us        30  13.406us  7.6880us  73.063us  cudaLaunchKernel\n",
            "                    0.05%  241.62us       101  2.3920us     282ns  109.87us  cuDeviceGetAttribute\n",
            "                    0.01%  33.693us         1  33.693us  33.693us  33.693us  cuDeviceGetName\n",
            "                    0.00%  16.469us         1  16.469us  16.469us  16.469us  cuDeviceGetPCIBusId\n",
            "                    0.00%  2.2270us         3     742ns     343ns  1.5100us  cuDeviceGetCount\n",
            "                    0.00%  1.2740us         2     637ns     329ns     945ns  cuDeviceGet\n",
            "                    0.00%     481ns         1     481ns     481ns     481ns  cuDeviceGetUuid\n",
            "\n",
            "==19429== Unified Memory profiling result:\n",
            "Device \"Tesla T4 (0)\"\n",
            "   Count  Avg Size  Min Size  Max Size  Total Size  Total Time  Name\n",
            "     970  67.563KB  4.0000KB  0.9805MB  64.00000MB  8.271180ms  Host To Device\n",
            "     302         -         -         -           -  42.53434ms  Gpu page fault groups\n",
            "Total CPU Page faults: 192\n"
          ]
        },
        {
          "output_type": "execute_result",
          "data": {
            "text/plain": []
          },
          "metadata": {},
          "execution_count": 41
        }
      ]
    },
    {
      "cell_type": "code",
      "source": [
        "%%writefile blocksize.c\n",
        "const int numThreads = 1024;"
      ],
      "metadata": {
        "id": "NXg-D_j3PeLX",
        "colab": {
          "base_uri": "https://localhost:8080/"
        },
        "outputId": "906db585-08ec-4833-926a-4d70055a1b31"
      },
      "execution_count": null,
      "outputs": [
        {
          "output_type": "stream",
          "name": "stdout",
          "text": [
            "Overwriting blocksize.c\n"
          ]
        }
      ]
    },
    {
      "cell_type": "code",
      "source": [
        "%%writefile N.c\n",
        "const int ARRAY_SIZE = 1<<20;"
      ],
      "metadata": {
        "id": "EzguD1ZwQARg",
        "colab": {
          "base_uri": "https://localhost:8080/"
        },
        "outputId": "4238ecff-a5ee-465f-ea46-172a3c6d0083"
      },
      "execution_count": null,
      "outputs": [
        {
          "output_type": "stream",
          "name": "stdout",
          "text": [
            "Overwriting N.c\n"
          ]
        }
      ]
    },
    {
      "cell_type": "code",
      "source": [
        "%%shell\n",
        "nvcc Q3_GPUGridStride.cu -o Q3_GPUGridStride\n",
        "nvprof ./Q3_GPUGridStride"
      ],
      "metadata": {
        "id": "-EvTp7yAPpIl",
        "colab": {
          "base_uri": "https://localhost:8080/"
        },
        "outputId": "47488520-cdfe-4813-c5ad-9c0f7af81750"
      },
      "execution_count": null,
      "outputs": [
        {
          "output_type": "stream",
          "name": "stdout",
          "text": [
            "==19473== NVPROF is profiling process 19473, command: ./Q3_GPUGridStride\n",
            "Array Size = 1048576 |  No. of Runs: 30\n",
            "==19473== Profiling application: ./Q3_GPUGridStride\n",
            "==19473== Profiling result:\n",
            "            Type  Time(%)      Time     Calls       Avg       Min       Max  Name\n",
            " GPU activities:  100.00%  5.7811ms        30  192.70us  116.89us  2.3769ms  square(float*, float*, int)\n",
            "      API calls:   98.07%  389.28ms         2  194.64ms  52.677us  389.22ms  cudaMallocManaged\n",
            "                    1.49%  5.9087ms        30  196.96us  120.77us  2.3847ms  cudaDeviceSynchronize\n",
            "                    0.15%  602.11us         2  301.06us  163.57us  438.54us  cudaFree\n",
            "                    0.15%  596.49us         1  596.49us  596.49us  596.49us  cuDeviceTotalMem\n",
            "                    0.07%  269.30us        30  8.9760us  6.3600us  43.585us  cudaLaunchKernel\n",
            "                    0.06%  245.27us       101  2.4280us     289ns  104.51us  cuDeviceGetAttribute\n",
            "                    0.01%  34.380us         1  34.380us  34.380us  34.380us  cuDeviceGetName\n",
            "                    0.00%  6.8740us         1  6.8740us  6.8740us  6.8740us  cuDeviceGetPCIBusId\n",
            "                    0.00%  1.8020us         3     600ns     281ns  1.0390us  cuDeviceGetCount\n",
            "                    0.00%  1.1540us         2     577ns     381ns     773ns  cuDeviceGet\n",
            "                    0.00%     481ns         1     481ns     481ns     481ns  cuDeviceGetUuid\n",
            "\n",
            "==19473== Unified Memory profiling result:\n",
            "Device \"Tesla T4 (0)\"\n",
            "   Count  Avg Size  Min Size  Max Size  Total Size  Total Time  Name\n",
            "      67  61.134KB  4.0000KB  932.00KB  4.000000MB  529.3690us  Host To Device\n",
            "      17         -         -         -           -  2.271964ms  Gpu page fault groups\n",
            "Total CPU Page faults: 12\n"
          ]
        },
        {
          "output_type": "execute_result",
          "data": {
            "text/plain": []
          },
          "metadata": {},
          "execution_count": 44
        }
      ]
    },
    {
      "cell_type": "code",
      "source": [
        "%%writefile N.c\n",
        "const int ARRAY_SIZE = 1<<22;"
      ],
      "metadata": {
        "id": "Gn5uCW6HPqb0",
        "colab": {
          "base_uri": "https://localhost:8080/"
        },
        "outputId": "dc954942-b6a0-4c50-9212-bdb3483207e0"
      },
      "execution_count": null,
      "outputs": [
        {
          "output_type": "stream",
          "name": "stdout",
          "text": [
            "Overwriting N.c\n"
          ]
        }
      ]
    },
    {
      "cell_type": "code",
      "source": [
        "%%shell\n",
        "nvcc Q3_GPUGridStride.cu -o Q3_GPUGridStride\n",
        "nvprof ./Q3_GPUGridStride"
      ],
      "metadata": {
        "id": "agPmHddBQB1P",
        "colab": {
          "base_uri": "https://localhost:8080/"
        },
        "outputId": "1763e9b2-da14-4725-cfb0-ada2dc08b06b"
      },
      "execution_count": null,
      "outputs": [
        {
          "output_type": "stream",
          "name": "stdout",
          "text": [
            "==19517== NVPROF is profiling process 19517, command: ./Q3_GPUGridStride\n",
            "Array Size = 4194304 |  No. of Runs: 30\n",
            "==19517== Profiling application: ./Q3_GPUGridStride\n",
            "==19517== Profiling result:\n",
            "            Type  Time(%)      Time     Calls       Avg       Min       Max  Name\n",
            " GPU activities:  100.00%  26.867ms        30  895.58us  552.44us  10.781ms  square(float*, float*, int)\n",
            "      API calls:   93.01%  405.17ms         2  202.59ms  41.826us  405.13ms  cudaMallocManaged\n",
            "                    6.20%  27.022ms        30  900.75us  557.05us  10.790ms  cudaDeviceSynchronize\n",
            "                    0.53%  2.2962ms         2  1.1481ms  786.97us  1.5093ms  cudaFree\n",
            "                    0.12%  543.86us         1  543.86us  543.86us  543.86us  cuDeviceTotalMem\n",
            "                    0.07%  326.17us        30  10.872us  6.3470us  57.614us  cudaLaunchKernel\n",
            "                    0.05%  231.99us       101  2.2960us     193ns  89.327us  cuDeviceGetAttribute\n",
            "                    0.01%  35.754us         1  35.754us  35.754us  35.754us  cuDeviceGetName\n",
            "                    0.00%  7.8290us         1  7.8290us  7.8290us  7.8290us  cuDeviceGetPCIBusId\n",
            "                    0.00%  1.7110us         3     570ns     304ns  1.0330us  cuDeviceGetCount\n",
            "                    0.00%  1.3180us         2     659ns     472ns     846ns  cuDeviceGet\n",
            "                    0.00%     490ns         1     490ns     490ns     490ns  cuDeviceGetUuid\n",
            "\n",
            "==19517== Unified Memory profiling result:\n",
            "Device \"Tesla T4 (0)\"\n",
            "   Count  Avg Size  Min Size  Max Size  Total Size  Total Time  Name\n",
            "     309  53.023KB  4.0000KB  948.00KB  16.00000MB  2.216122ms  Host To Device\n",
            "      71         -         -         -           -  10.27352ms  Gpu page fault groups\n",
            "Total CPU Page faults: 48\n"
          ]
        },
        {
          "output_type": "execute_result",
          "data": {
            "text/plain": []
          },
          "metadata": {},
          "execution_count": 46
        }
      ]
    },
    {
      "cell_type": "code",
      "source": [
        "%%writefile N.c\n",
        "const int ARRAY_SIZE = 1<<24;"
      ],
      "metadata": {
        "id": "vCa401K4QCf7",
        "colab": {
          "base_uri": "https://localhost:8080/"
        },
        "outputId": "61c4b290-6c68-4bb4-ba29-ed51aa97207d"
      },
      "execution_count": null,
      "outputs": [
        {
          "output_type": "stream",
          "name": "stdout",
          "text": [
            "Overwriting N.c\n"
          ]
        }
      ]
    },
    {
      "cell_type": "code",
      "source": [
        "%%shell\n",
        "nvcc Q3_GPUGridStride.cu -o Q3_GPUGridStride\n",
        "nvprof ./Q3_GPUGridStride"
      ],
      "metadata": {
        "id": "tfoOBqUEQDR6",
        "colab": {
          "base_uri": "https://localhost:8080/"
        },
        "outputId": "bc456f7b-cae4-4161-b7df-b10c5d807b19"
      },
      "execution_count": null,
      "outputs": [
        {
          "output_type": "stream",
          "name": "stdout",
          "text": [
            "==19563== NVPROF is profiling process 19563, command: ./Q3_GPUGridStride\n",
            "Array Size = 16777216 |  No. of Runs: 30\n",
            "==19563== Profiling application: ./Q3_GPUGridStride\n",
            "==19563== Profiling result:\n",
            "            Type  Time(%)      Time     Calls       Avg       Min       Max  Name\n",
            " GPU activities:  100.00%  119.62ms        30  3.9874ms  2.2016ms  55.671ms  square(float*, float*, int)\n",
            "      API calls:   75.98%  411.53ms         2  205.77ms  66.614us  411.46ms  cudaMallocManaged\n",
            "                   22.12%  119.83ms        30  3.9943ms  2.2067ms  55.685ms  cudaDeviceSynchronize\n",
            "                    1.66%  9.0126ms         2  4.5063ms  3.3274ms  5.6852ms  cudaFree\n",
            "                    0.10%  558.18us         1  558.18us  558.18us  558.18us  cuDeviceTotalMem\n",
            "                    0.08%  441.78us        30  14.725us  7.4360us  62.502us  cudaLaunchKernel\n",
            "                    0.04%  217.18us       101  2.1500us     272ns  92.016us  cuDeviceGetAttribute\n",
            "                    0.01%  32.251us         1  32.251us  32.251us  32.251us  cuDeviceGetName\n",
            "                    0.00%  6.6290us         1  6.6290us  6.6290us  6.6290us  cuDeviceGetPCIBusId\n",
            "                    0.00%  2.1310us         3     710ns     316ns  1.4860us  cuDeviceGetCount\n",
            "                    0.00%  1.3770us         2     688ns     267ns  1.1100us  cuDeviceGet\n",
            "                    0.00%     449ns         1     449ns     449ns     449ns  cuDeviceGetUuid\n",
            "\n",
            "==19563== Unified Memory profiling result:\n",
            "Device \"Tesla T4 (0)\"\n",
            "   Count  Avg Size  Min Size  Max Size  Total Size  Total Time  Name\n",
            "    1123  58.357KB  4.0000KB  928.00KB  64.00000MB  8.611080ms  Host To Device\n",
            "     278         -         -         -           -  53.63579ms  Gpu page fault groups\n",
            "Total CPU Page faults: 192\n"
          ]
        },
        {
          "output_type": "execute_result",
          "data": {
            "text/plain": []
          },
          "metadata": {},
          "execution_count": 48
        }
      ]
    },
    {
      "cell_type": "markdown",
      "source": [
        "# Memory Prefetching"
      ],
      "metadata": {
        "id": "O8hK4gP9UyNp"
      }
    },
    {
      "cell_type": "code",
      "source": [
        "%%writefile Q4_MemPrefetch.cu\n",
        "\n",
        "#include <stdio.h>\n",
        "#include <stdlib.h>\n",
        "#include \"N.c\"\n",
        "#include \"runs.c\"\n",
        "#include \"blocksize.c\"\n",
        "\n",
        "__global__     \n",
        "void square(float *h_out, float *h_in, int n) {\n",
        "\n",
        "  int index = blockIdx.x * blockDim.x + threadIdx.x;    \n",
        "  int stride = blockDim.x * gridDim.x;  \n",
        "\n",
        "  for (int i=index; i < n; i+=stride)   \n",
        "     h_out[i] = h_in[i] * h_in[i];\n",
        "}\n",
        "\n",
        "int main() {\n",
        "  const int ARRAY_BYTES = ARRAY_SIZE*sizeof(float);\n",
        "  float *in, *out;\n",
        "\n",
        "  int numBlocks = (ARRAY_SIZE+numThreads-1)/numThreads;\n",
        "  cudaMallocManaged(&in, ARRAY_BYTES);\n",
        "  cudaMallocManaged(&out, ARRAY_BYTES);\n",
        "\n",
        "  for (int i = 0; i < ARRAY_SIZE; i++) {\n",
        "    in[i] = float(i);\n",
        "  }\n",
        "  // prefetch data\n",
        "  int device = -1;\n",
        "  cudaGetDevice(&device);\n",
        "  cudaMemPrefetchAsync(in, ARRAY_BYTES, device, NULL);    // CPU = cudaCPUDeviceID\n",
        "  cudaMemPrefetchAsync(out, ARRAY_BYTES, device, NULL);   // CPU = cudaCPUDeviceID\n",
        "  for (int j = 0; j < runs; j++) {\n",
        "\n",
        "    square<<<numBlocks, numThreads>>> (out, in, ARRAY_SIZE);        // launch CUDA kernel.  \n",
        "    cudaDeviceSynchronize();\n",
        "  }\n",
        "  \n",
        "  // free memory\n",
        "  cudaFree(in);\n",
        "  cudaFree(out);\n",
        "\n",
        "  printf(\"Array Size = %d | No. of Runs: %d\\n\", ARRAY_SIZE ,runs);\n",
        "  return 0;\n",
        "}"
      ],
      "metadata": {
        "id": "ZtGPYtw0U8gX",
        "colab": {
          "base_uri": "https://localhost:8080/"
        },
        "outputId": "7c346aa0-1815-40ca-b114-e1515c26bff1"
      },
      "execution_count": null,
      "outputs": [
        {
          "output_type": "stream",
          "name": "stdout",
          "text": [
            "Overwriting Q4_MemPrefetch.cu\n"
          ]
        }
      ]
    },
    {
      "cell_type": "code",
      "source": [
        "%%writefile Q4_NoMemPrefetch.cu\n",
        "\n",
        "#include <stdio.h>\n",
        "#include <stdlib.h>\n",
        "#include \"N.c\"\n",
        "#include \"runs.c\"\n",
        "#include \"blocksize.c\"\n",
        "\n",
        "__global__     \n",
        "void square(float *h_out, float *h_in, int n) {\n",
        "\n",
        "  int index = blockIdx.x * blockDim.x + threadIdx.x;    \n",
        "  int stride = blockDim.x * gridDim.x;  \n",
        "\n",
        "  for (int i=index; i < n; i+=stride)   \n",
        "     h_out[i] = h_in[i] * h_in[i];\n",
        "}\n",
        "\n",
        "int main() {\n",
        "  const int ARRAY_BYTES = ARRAY_SIZE*sizeof(float);\n",
        "  float *in, *out;\n",
        "\n",
        "  int numBlocks = (ARRAY_SIZE+numThreads-1)/numThreads;\n",
        "  cudaMallocManaged(&in, ARRAY_BYTES);\n",
        "  cudaMallocManaged(&out, ARRAY_BYTES);\n",
        "\n",
        "  for (int i = 0; i < ARRAY_SIZE; i++) {\n",
        "    in[i] = float(i);\n",
        "  }\n",
        "  \n",
        "  for (int j = 0; j < runs; j++) {\n",
        " \n",
        "    square<<<numBlocks, numThreads>>> (out, in, ARRAY_SIZE);    // launch CUDA kernel. \n",
        "    cudaDeviceSynchronize();      \n",
        "  }\n",
        "\n",
        "  // free memory\n",
        "  cudaFree(in);\n",
        "   cudaFree(out);\n",
        "  printf(\"Array Size = %d No. of Runs: %d\\n\", ARRAY_SIZE, runs);\n",
        "  return 0;\n",
        "}"
      ],
      "metadata": {
        "id": "C8JsS-VvbJKp",
        "colab": {
          "base_uri": "https://localhost:8080/"
        },
        "outputId": "a99a0984-76e8-4743-9fdc-0b5412917234"
      },
      "execution_count": null,
      "outputs": [
        {
          "output_type": "stream",
          "name": "stdout",
          "text": [
            "Overwriting Q4_NoMemPrefetch.cu\n"
          ]
        }
      ]
    },
    {
      "cell_type": "code",
      "source": [
        "%%writefile blocksize.c\n",
        "const int numThreads = 256;"
      ],
      "metadata": {
        "id": "ICCSbuL8WWmH",
        "colab": {
          "base_uri": "https://localhost:8080/"
        },
        "outputId": "193698cb-5315-4db2-c3f9-01370bfc437e"
      },
      "execution_count": null,
      "outputs": [
        {
          "output_type": "stream",
          "name": "stdout",
          "text": [
            "Overwriting blocksize.c\n"
          ]
        }
      ]
    },
    {
      "cell_type": "code",
      "source": [
        "%%writefile N.c\n",
        "const int ARRAY_SIZE = 1<<20;"
      ],
      "metadata": {
        "id": "siuZzmX4WX8E",
        "colab": {
          "base_uri": "https://localhost:8080/"
        },
        "outputId": "74f8026e-6a4d-4080-b39d-85707b7a65dc"
      },
      "execution_count": null,
      "outputs": [
        {
          "output_type": "stream",
          "name": "stdout",
          "text": [
            "Overwriting N.c\n"
          ]
        }
      ]
    },
    {
      "cell_type": "code",
      "source": [
        "%%shell\n",
        "nvcc Q4_MemPrefetch.cu -o Q4_MemPrefetch\n",
        "nvprof ./Q4_MemPrefetch"
      ],
      "metadata": {
        "id": "DCbnFYVGWa6l",
        "colab": {
          "base_uri": "https://localhost:8080/"
        },
        "outputId": "3b766828-287d-40b0-8dd3-fc9a985271bd"
      },
      "execution_count": null,
      "outputs": [
        {
          "output_type": "stream",
          "name": "stdout",
          "text": [
            "==19607== NVPROF is profiling process 19607, command: ./Q4_MemPrefetch\n",
            "Array Size = 1048576 | No. of Runs: 30\n",
            "==19607== Profiling application: ./Q4_MemPrefetch\n",
            "==19607== Profiling result:\n",
            "            Type  Time(%)      Time     Calls       Avg       Min       Max  Name\n",
            " GPU activities:  100.00%  1.2820ms        30  42.731us  41.535us  43.104us  square(float*, float*, int)\n",
            "      API calls:   96.73%  407.40ms         2  203.70ms  58.028us  407.34ms  cudaMallocManaged\n",
            "                    2.75%  11.590ms        30  386.35us  44.428us  10.239ms  cudaDeviceSynchronize\n",
            "                    0.14%  597.55us         1  597.55us  597.55us  597.55us  cuDeviceTotalMem\n",
            "                    0.14%  575.35us         2  287.67us  118.14us  457.21us  cudaMemPrefetchAsync\n",
            "                    0.12%  492.64us         2  246.32us  68.010us  424.63us  cudaFree\n",
            "                    0.06%  260.62us        30  8.6870us  6.2930us  42.358us  cudaLaunchKernel\n",
            "                    0.05%  220.03us       101  2.1780us     283ns  90.435us  cuDeviceGetAttribute\n",
            "                    0.01%  37.003us         1  37.003us  37.003us  37.003us  cuDeviceGetName\n",
            "                    0.00%  8.4710us         1  8.4710us  8.4710us  8.4710us  cuDeviceGetPCIBusId\n",
            "                    0.00%  5.7970us         1  5.7970us  5.7970us  5.7970us  cudaGetDevice\n",
            "                    0.00%  2.4720us         3     824ns     344ns  1.3750us  cuDeviceGetCount\n",
            "                    0.00%  1.3700us         2     685ns     379ns     991ns  cuDeviceGet\n",
            "                    0.00%     414ns         1     414ns     414ns     414ns  cuDeviceGetUuid\n",
            "\n",
            "==19607== Unified Memory profiling result:\n",
            "Device \"Tesla T4 (0)\"\n",
            "   Count  Avg Size  Min Size  Max Size  Total Size  Total Time  Name\n",
            "       2  2.0000MB  2.0000MB  2.0000MB  4.000000MB  356.1860us  Host To Device\n",
            "Total CPU Page faults: 12\n"
          ]
        },
        {
          "output_type": "execute_result",
          "data": {
            "text/plain": []
          },
          "metadata": {},
          "execution_count": 53
        }
      ]
    },
    {
      "cell_type": "code",
      "source": [
        "%%shell\n",
        "nvcc Q4_NoMemPrefetch.cu -o Q4_NoMemPrefetch\n",
        "nvprof ./Q4_NoMemPrefetch"
      ],
      "metadata": {
        "id": "TPRkiHujbQss",
        "colab": {
          "base_uri": "https://localhost:8080/"
        },
        "outputId": "2fe28a31-02e4-4b5f-cd24-6eec315d033d"
      },
      "execution_count": null,
      "outputs": [
        {
          "output_type": "stream",
          "name": "stdout",
          "text": [
            "==19652== NVPROF is profiling process 19652, command: ./Q4_NoMemPrefetch\n",
            "Array Size = 1048576 No. of Runs: 30\n",
            "==19652== Profiling application: ./Q4_NoMemPrefetch\n",
            "==19652== Profiling result:\n",
            "            Type  Time(%)      Time     Calls       Avg       Min       Max  Name\n",
            " GPU activities:  100.00%  4.2259ms        30  140.86us  54.975us  2.6233ms  square(float*, float*, int)\n",
            "      API calls:   98.51%  399.74ms         2  199.87ms  38.030us  399.70ms  cudaMallocManaged\n",
            "                    1.08%  4.3840ms        30  146.13us  58.913us  2.6501ms  cudaDeviceSynchronize\n",
            "                    0.14%  582.84us         2  291.42us  153.28us  429.55us  cudaFree\n",
            "                    0.14%  557.57us         1  557.57us  557.57us  557.57us  cuDeviceTotalMem\n",
            "                    0.07%  280.97us        30  9.3650us  6.0980us  69.680us  cudaLaunchKernel\n",
            "                    0.05%  206.30us       101  2.0420us     200ns  84.497us  cuDeviceGetAttribute\n",
            "                    0.01%  34.964us         1  34.964us  34.964us  34.964us  cuDeviceGetName\n",
            "                    0.00%  6.9850us         1  6.9850us  6.9850us  6.9850us  cuDeviceGetPCIBusId\n",
            "                    0.00%  1.9550us         3     651ns     290ns  1.1230us  cuDeviceGetCount\n",
            "                    0.00%  1.4010us         2     700ns     360ns  1.0410us  cuDeviceGet\n",
            "                    0.00%     424ns         1     424ns     424ns     424ns  cuDeviceGetUuid\n",
            "\n",
            "==19652== Unified Memory profiling result:\n",
            "Device \"Tesla T4 (0)\"\n",
            "   Count  Avg Size  Min Size  Max Size  Total Size  Total Time  Name\n",
            "      36  113.78KB  4.0000KB  956.00KB  4.000000MB  448.9190us  Host To Device\n",
            "      19         -         -         -           -  2.561043ms  Gpu page fault groups\n",
            "Total CPU Page faults: 12\n"
          ]
        },
        {
          "output_type": "execute_result",
          "data": {
            "text/plain": []
          },
          "metadata": {},
          "execution_count": 54
        }
      ]
    },
    {
      "cell_type": "code",
      "source": [
        "%%writefile N.c\n",
        "const int ARRAY_SIZE = 1<<22;"
      ],
      "metadata": {
        "id": "CgE6hbeuWsle",
        "colab": {
          "base_uri": "https://localhost:8080/"
        },
        "outputId": "daa7e3df-b7ea-4075-ea3a-6824bd9e8bb6"
      },
      "execution_count": null,
      "outputs": [
        {
          "output_type": "stream",
          "name": "stdout",
          "text": [
            "Overwriting N.c\n"
          ]
        }
      ]
    },
    {
      "cell_type": "code",
      "source": [
        "%%shell\n",
        "nvcc Q4_MemPrefetch.cu -o Q4_MemPrefetch\n",
        "nvprof ./Q4_MemPrefetch"
      ],
      "metadata": {
        "id": "AC1kAa4NW3Fi",
        "colab": {
          "base_uri": "https://localhost:8080/"
        },
        "outputId": "e4e6650a-ca92-44d0-b2e5-ac5a0ac30d12"
      },
      "execution_count": null,
      "outputs": [
        {
          "output_type": "stream",
          "name": "stdout",
          "text": [
            "==19696== NVPROF is profiling process 19696, command: ./Q4_MemPrefetch\n",
            "Array Size = 4194304 | No. of Runs: 30\n",
            "==19696== Profiling application: ./Q4_MemPrefetch\n",
            "==19696== Profiling result:\n",
            "            Type  Time(%)      Time     Calls       Avg       Min       Max  Name\n",
            " GPU activities:  100.00%  6.1858ms        30  206.19us  204.64us  206.81us  square(float*, float*, int)\n",
            "      API calls:   94.60%  396.01ms         2  198.01ms  50.039us  395.96ms  cudaMallocManaged\n",
            "                    4.28%  17.921ms        30  597.37us  209.95us  11.810ms  cudaDeviceSynchronize\n",
            "                    0.40%  1.6623ms         2  831.14us  122.13us  1.5401ms  cudaMemPrefetchAsync\n",
            "                    0.39%  1.6454ms         2  822.69us  174.64us  1.4708ms  cudaFree\n",
            "                    0.20%  822.61us         1  822.61us  822.61us  822.61us  cuDeviceTotalMem\n",
            "                    0.06%  268.01us        30  8.9330us  5.7600us  50.697us  cudaLaunchKernel\n",
            "                    0.05%  215.97us       101  2.1380us     259ns  85.674us  cuDeviceGetAttribute\n",
            "                    0.01%  46.210us         1  46.210us  46.210us  46.210us  cuDeviceGetName\n",
            "                    0.00%  7.0330us         1  7.0330us  7.0330us  7.0330us  cudaGetDevice\n",
            "                    0.00%  6.5780us         1  6.5780us  6.5780us  6.5780us  cuDeviceGetPCIBusId\n",
            "                    0.00%  1.7260us         3     575ns     279ns  1.0360us  cuDeviceGetCount\n",
            "                    0.00%  1.3580us         2     679ns     336ns  1.0220us  cuDeviceGet\n",
            "                    0.00%     506ns         1     506ns     506ns     506ns  cuDeviceGetUuid\n",
            "\n",
            "==19696== Unified Memory profiling result:\n",
            "Device \"Tesla T4 (0)\"\n",
            "   Count  Avg Size  Min Size  Max Size  Total Size  Total Time  Name\n",
            "       8  2.0000MB  2.0000MB  2.0000MB  16.00000MB  1.457639ms  Host To Device\n",
            "Total CPU Page faults: 48\n"
          ]
        },
        {
          "output_type": "execute_result",
          "data": {
            "text/plain": []
          },
          "metadata": {},
          "execution_count": 56
        }
      ]
    },
    {
      "cell_type": "code",
      "source": [
        "%%shell\n",
        "nvcc Q4_NoMemPrefetch.cu -o Q4_NoMemPrefetch\n",
        "nvprof ./Q4_NoMemPrefetch"
      ],
      "metadata": {
        "id": "doPtrUCebiRi",
        "colab": {
          "base_uri": "https://localhost:8080/"
        },
        "outputId": "72381ad0-bce9-4941-f094-e4178aee806f"
      },
      "execution_count": null,
      "outputs": [
        {
          "output_type": "stream",
          "name": "stdout",
          "text": [
            "==19741== NVPROF is profiling process 19741, command: ./Q4_NoMemPrefetch\n",
            "Array Size = 4194304 No. of Runs: 30\n",
            "==19741== Profiling application: ./Q4_NoMemPrefetch\n",
            "==19741== Profiling result:\n",
            "            Type  Time(%)      Time     Calls       Avg       Min       Max  Name\n",
            " GPU activities:  100.00%  19.189ms        30  639.65us  205.15us  13.230ms  square(float*, float*, int)\n",
            "      API calls:   94.61%  399.79ms         2  199.89ms  33.398us  399.75ms  cudaMallocManaged\n",
            "                    4.57%  19.326ms        30  644.19us  208.24us  13.239ms  cudaDeviceSynchronize\n",
            "                    0.53%  2.2333ms         2  1.1166ms  766.66us  1.4666ms  cudaFree\n",
            "                    0.14%  598.98us         1  598.98us  598.98us  598.98us  cuDeviceTotalMem\n",
            "                    0.07%  311.32us        30  10.377us  6.3190us  63.624us  cudaLaunchKernel\n",
            "                    0.05%  230.94us       101  2.2860us     268ns  98.664us  cuDeviceGetAttribute\n",
            "                    0.01%  47.031us         1  47.031us  47.031us  47.031us  cuDeviceGetName\n",
            "                    0.00%  7.0400us         1  7.0400us  7.0400us  7.0400us  cuDeviceGetPCIBusId\n",
            "                    0.00%  1.9030us         3     634ns     289ns  1.1450us  cuDeviceGetCount\n",
            "                    0.00%  1.2770us         2     638ns     394ns     883ns  cuDeviceGet\n",
            "                    0.00%     483ns         1     483ns     483ns     483ns  cuDeviceGetUuid\n",
            "\n",
            "==19741== Unified Memory profiling result:\n",
            "Device \"Tesla T4 (0)\"\n",
            "   Count  Avg Size  Min Size  Max Size  Total Size  Total Time  Name\n",
            "     171  95.813KB  4.0000KB  972.00KB  16.00000MB  1.859164ms  Host To Device\n",
            "      80         -         -         -           -  12.99360ms  Gpu page fault groups\n",
            "Total CPU Page faults: 48\n"
          ]
        },
        {
          "output_type": "execute_result",
          "data": {
            "text/plain": []
          },
          "metadata": {},
          "execution_count": 57
        }
      ]
    },
    {
      "cell_type": "code",
      "source": [
        "%%writefile N.c\n",
        "const int ARRAY_SIZE = 1<<24;"
      ],
      "metadata": {
        "id": "Gj2KQkJoW4GG",
        "colab": {
          "base_uri": "https://localhost:8080/"
        },
        "outputId": "a4924778-5b2b-418f-88fd-c0f7095f7474"
      },
      "execution_count": null,
      "outputs": [
        {
          "output_type": "stream",
          "name": "stdout",
          "text": [
            "Overwriting N.c\n"
          ]
        }
      ]
    },
    {
      "cell_type": "code",
      "source": [
        "%%shell\n",
        "nvcc Q4_MemPrefetch.cu -o Q4_MemPrefetch\n",
        "nvprof ./Q4_MemPrefetch"
      ],
      "metadata": {
        "id": "PdXnDdXmW4Ok",
        "colab": {
          "base_uri": "https://localhost:8080/"
        },
        "outputId": "6c8fec1a-1b77-4685-a2cc-5b0e6e62f8d5"
      },
      "execution_count": null,
      "outputs": [
        {
          "output_type": "stream",
          "name": "stdout",
          "text": [
            "==19785== NVPROF is profiling process 19785, command: ./Q4_MemPrefetch\n",
            "Array Size = 16777216 | No. of Runs: 30\n",
            "==19785== Profiling application: ./Q4_MemPrefetch\n",
            "==19785== Profiling result:\n",
            "            Type  Time(%)      Time     Calls       Avg       Min       Max  Name\n",
            " GPU activities:  100.00%  24.245ms        30  808.18us  806.45us  809.65us  square(float*, float*, int)\n",
            "      API calls:   91.17%  410.24ms         2  205.12ms  57.242us  410.19ms  cudaMallocManaged\n",
            "                    5.46%  24.553ms        30  818.43us  810.88us  970.27us  cudaDeviceSynchronize\n",
            "                    1.58%  7.1168ms         2  3.5584ms  1.1573ms  5.9596ms  cudaFree\n",
            "                    1.52%  6.8337ms         2  3.4169ms  409.87us  6.4239ms  cudaMemPrefetchAsync\n",
            "                    0.13%  605.50us         1  605.50us  605.50us  605.50us  cuDeviceTotalMem\n",
            "                    0.07%  315.23us        30  10.507us  6.7250us  49.050us  cudaLaunchKernel\n",
            "                    0.05%  232.86us       101  2.3050us     295ns  95.196us  cuDeviceGetAttribute\n",
            "                    0.01%  36.009us         1  36.009us  36.009us  36.009us  cuDeviceGetName\n",
            "                    0.00%  7.7150us         1  7.7150us  7.7150us  7.7150us  cuDeviceGetPCIBusId\n",
            "                    0.00%  7.6880us         1  7.6880us  7.6880us  7.6880us  cudaGetDevice\n",
            "                    0.00%  2.6040us         3     868ns     377ns  1.5840us  cuDeviceGetCount\n",
            "                    0.00%  1.6870us         2     843ns     395ns  1.2920us  cuDeviceGet\n",
            "                    0.00%     465ns         1     465ns     465ns     465ns  cuDeviceGetUuid\n",
            "\n",
            "==19785== Unified Memory profiling result:\n",
            "Device \"Tesla T4 (0)\"\n",
            "   Count  Avg Size  Min Size  Max Size  Total Size  Total Time  Name\n",
            "      32  2.0000MB  2.0000MB  2.0000MB  64.00000MB  5.753756ms  Host To Device\n",
            "Total CPU Page faults: 192\n"
          ]
        },
        {
          "output_type": "execute_result",
          "data": {
            "text/plain": []
          },
          "metadata": {},
          "execution_count": 59
        }
      ]
    },
    {
      "cell_type": "code",
      "source": [
        "%%shell\n",
        "nvcc Q4_NoMemPrefetch.cu -o Q4_NoMemPrefetch\n",
        "nvprof ./Q4_NoMemPrefetch"
      ],
      "metadata": {
        "id": "pyM2FEn5bjJ2",
        "colab": {
          "base_uri": "https://localhost:8080/"
        },
        "outputId": "5d0c1d5c-58c0-49dc-8fac-a09418da09b3"
      },
      "execution_count": null,
      "outputs": [
        {
          "output_type": "stream",
          "name": "stdout",
          "text": [
            "==19831== NVPROF is profiling process 19831, command: ./Q4_NoMemPrefetch\n",
            "Array Size = 16777216 No. of Runs: 30\n",
            "==19831== Profiling application: ./Q4_NoMemPrefetch\n",
            "==19831== Profiling result:\n",
            "            Type  Time(%)      Time     Calls       Avg       Min       Max  Name\n",
            " GPU activities:  100.00%  79.318ms        30  2.6439ms  804.88us  55.932ms  square(float*, float*, int)\n",
            "      API calls:   81.42%  393.50ms         2  196.75ms  51.151us  393.45ms  cudaMallocManaged\n",
            "                   16.46%  79.550ms        30  2.6517ms  809.81us  55.945ms  cudaDeviceSynchronize\n",
            "                    1.86%  8.9996ms         2  4.4998ms  3.2207ms  5.7789ms  cudaFree\n",
            "                    0.12%  587.42us         1  587.42us  587.42us  587.42us  cuDeviceTotalMem\n",
            "                    0.08%  391.84us        30  13.061us  6.6870us  76.483us  cudaLaunchKernel\n",
            "                    0.05%  241.93us       101  2.3950us     258ns  101.31us  cuDeviceGetAttribute\n",
            "                    0.01%  40.101us         1  40.101us  40.101us  40.101us  cuDeviceGetName\n",
            "                    0.00%  7.9760us         1  7.9760us  7.9760us  7.9760us  cuDeviceGetPCIBusId\n",
            "                    0.00%  2.0770us         3     692ns     327ns  1.4180us  cuDeviceGetCount\n",
            "                    0.00%  1.1830us         2     591ns     302ns     881ns  cuDeviceGet\n",
            "                    0.00%     400ns         1     400ns     400ns     400ns  cuDeviceGetUuid\n",
            "\n",
            "==19831== Unified Memory profiling result:\n",
            "Device \"Tesla T4 (0)\"\n",
            "   Count  Avg Size  Min Size  Max Size  Total Size  Total Time  Name\n",
            "     732  89.529KB  4.0000KB  0.9805MB  64.00000MB  7.626686ms  Host To Device\n",
            "     324         -         -         -           -  55.01950ms  Gpu page fault groups\n",
            "Total CPU Page faults: 192\n"
          ]
        },
        {
          "output_type": "execute_result",
          "data": {
            "text/plain": []
          },
          "metadata": {},
          "execution_count": 60
        }
      ]
    },
    {
      "cell_type": "code",
      "source": [
        "%%writefile blocksize.c\n",
        "const int numThreads = 512;"
      ],
      "metadata": {
        "id": "RhenqMVgW9zA",
        "colab": {
          "base_uri": "https://localhost:8080/"
        },
        "outputId": "d96d0602-d2c5-428b-ce4d-4a63db87a0e1"
      },
      "execution_count": null,
      "outputs": [
        {
          "output_type": "stream",
          "name": "stdout",
          "text": [
            "Overwriting blocksize.c\n"
          ]
        }
      ]
    },
    {
      "cell_type": "code",
      "source": [
        "%%writefile N.c\n",
        "const int ARRAY_SIZE = 1<<20;"
      ],
      "metadata": {
        "id": "WATNlojvW_2x",
        "colab": {
          "base_uri": "https://localhost:8080/"
        },
        "outputId": "6813871b-7f68-4698-ba45-643dd6bfd87d"
      },
      "execution_count": null,
      "outputs": [
        {
          "output_type": "stream",
          "name": "stdout",
          "text": [
            "Overwriting N.c\n"
          ]
        }
      ]
    },
    {
      "cell_type": "code",
      "source": [
        "%%shell\n",
        "nvcc Q4_MemPrefetch.cu -o Q4_MemPrefetch\n",
        "nvprof ./Q4_MemPrefetch"
      ],
      "metadata": {
        "id": "7KWy_sswXA2o",
        "colab": {
          "base_uri": "https://localhost:8080/"
        },
        "outputId": "8354ee5a-439a-43d1-b38d-88ce1c80dc9f"
      },
      "execution_count": null,
      "outputs": [
        {
          "output_type": "stream",
          "name": "stdout",
          "text": [
            "==19875== NVPROF is profiling process 19875, command: ./Q4_MemPrefetch\n",
            "Array Size = 1048576 | No. of Runs: 30\n",
            "==19875== Profiling application: ./Q4_MemPrefetch\n",
            "==19875== Profiling result:\n",
            "            Type  Time(%)      Time     Calls       Avg       Min       Max  Name\n",
            " GPU activities:  100.00%  1.8003ms        30  60.010us  58.911us  60.447us  square(float*, float*, int)\n",
            "      API calls:   97.38%  400.46ms         2  200.23ms  48.482us  400.41ms  cudaMallocManaged\n",
            "                    2.09%  8.6090ms        30  286.97us  61.122us  6.7463ms  cudaDeviceSynchronize\n",
            "                    0.14%  584.71us         2  292.36us  125.50us  459.21us  cudaMemPrefetchAsync\n",
            "                    0.13%  546.86us         1  546.86us  546.86us  546.86us  cuDeviceTotalMem\n",
            "                    0.12%  491.82us         2  245.91us  70.479us  421.34us  cudaFree\n",
            "                    0.06%  259.31us        30  8.6430us  5.8970us  39.000us  cudaLaunchKernel\n",
            "                    0.05%  210.94us       101  2.0880us     257ns  88.002us  cuDeviceGetAttribute\n",
            "                    0.01%  39.721us         1  39.721us  39.721us  39.721us  cuDeviceGetName\n",
            "                    0.00%  8.0520us         1  8.0520us  8.0520us  8.0520us  cuDeviceGetPCIBusId\n",
            "                    0.00%  4.9150us         1  4.9150us  4.9150us  4.9150us  cudaGetDevice\n",
            "                    0.00%  2.2250us         3     741ns     278ns  1.2620us  cuDeviceGetCount\n",
            "                    0.00%  1.4520us         2     726ns     361ns  1.0910us  cuDeviceGet\n",
            "                    0.00%     512ns         1     512ns     512ns     512ns  cuDeviceGetUuid\n",
            "\n",
            "==19875== Unified Memory profiling result:\n",
            "Device \"Tesla T4 (0)\"\n",
            "   Count  Avg Size  Min Size  Max Size  Total Size  Total Time  Name\n",
            "       2  2.0000MB  2.0000MB  2.0000MB  4.000000MB  360.9210us  Host To Device\n",
            "Total CPU Page faults: 12\n"
          ]
        },
        {
          "output_type": "execute_result",
          "data": {
            "text/plain": []
          },
          "metadata": {},
          "execution_count": 63
        }
      ]
    },
    {
      "cell_type": "code",
      "source": [
        "%%shell\n",
        "nvcc Q4_NoMemPrefetch.cu -o Q4_NoMemPrefetch\n",
        "nvprof ./Q4_NoMemPrefetch"
      ],
      "metadata": {
        "id": "xCQSH80Bbj3a",
        "colab": {
          "base_uri": "https://localhost:8080/"
        },
        "outputId": "3742a644-3cf2-4afa-eead-4f88232586aa"
      },
      "execution_count": null,
      "outputs": [
        {
          "output_type": "stream",
          "name": "stdout",
          "text": [
            "==19920== NVPROF is profiling process 19920, command: ./Q4_NoMemPrefetch\n",
            "Array Size = 1048576 No. of Runs: 30\n",
            "==19920== Profiling application: ./Q4_NoMemPrefetch\n",
            "==19920== Profiling result:\n",
            "            Type  Time(%)      Time     Calls       Avg       Min       Max  Name\n",
            " GPU activities:  100.00%  4.1436ms        30  138.12us  60.031us  2.3830ms  square(float*, float*, int)\n",
            "      API calls:   98.47%  387.80ms         2  193.90ms  35.604us  387.77ms  cudaMallocManaged\n",
            "                    1.10%  4.3154ms        30  143.85us  63.720us  2.4167ms  cudaDeviceSynchronize\n",
            "                    0.15%  596.27us         1  596.27us  596.27us  596.27us  cuDeviceTotalMem\n",
            "                    0.14%  558.96us         2  279.48us  149.45us  409.52us  cudaFree\n",
            "                    0.07%  286.03us        30  9.5340us  5.8770us  50.403us  cudaLaunchKernel\n",
            "                    0.06%  224.04us       101  2.2180us     280ns  89.219us  cuDeviceGetAttribute\n",
            "                    0.01%  34.531us         1  34.531us  34.531us  34.531us  cuDeviceGetName\n",
            "                    0.00%  7.7360us         1  7.7360us  7.7360us  7.7360us  cuDeviceGetPCIBusId\n",
            "                    0.00%  2.2220us         3     740ns     272ns  1.5460us  cuDeviceGetCount\n",
            "                    0.00%  1.5400us         2     770ns     202ns  1.3380us  cuDeviceGet\n",
            "                    0.00%     472ns         1     472ns     472ns     472ns  cuDeviceGetUuid\n",
            "\n",
            "==19920== Unified Memory profiling result:\n",
            "Device \"Tesla T4 (0)\"\n",
            "   Count  Avg Size  Min Size  Max Size  Total Size  Total Time  Name\n",
            "      93  44.043KB  4.0000KB  960.00KB  4.000000MB  589.5570us  Host To Device\n",
            "      18         -         -         -           -  2.312088ms  Gpu page fault groups\n",
            "Total CPU Page faults: 12\n"
          ]
        },
        {
          "output_type": "execute_result",
          "data": {
            "text/plain": []
          },
          "metadata": {},
          "execution_count": 64
        }
      ]
    },
    {
      "cell_type": "code",
      "source": [
        "%%writefile N.c\n",
        "const int ARRAY_SIZE = 1<<22;"
      ],
      "metadata": {
        "id": "OjQCcm6UXBCe",
        "colab": {
          "base_uri": "https://localhost:8080/"
        },
        "outputId": "cc8666cc-7f52-4c9b-f3d6-3df2bc5620da"
      },
      "execution_count": null,
      "outputs": [
        {
          "output_type": "stream",
          "name": "stdout",
          "text": [
            "Overwriting N.c\n"
          ]
        }
      ]
    },
    {
      "cell_type": "code",
      "source": [
        "%%shell\n",
        "nvcc Q4_MemPrefetch.cu -o Q4_MemPrefetch\n",
        "nvprof ./Q4_MemPrefetch"
      ],
      "metadata": {
        "id": "A5L0M8ceXBIJ",
        "colab": {
          "base_uri": "https://localhost:8080/"
        },
        "outputId": "e90ac4bc-b932-40c4-8538-57cb3f0c26a8"
      },
      "execution_count": null,
      "outputs": [
        {
          "output_type": "stream",
          "name": "stdout",
          "text": [
            "==19964== NVPROF is profiling process 19964, command: ./Q4_MemPrefetch\n",
            "Array Size = 4194304 | No. of Runs: 30\n",
            "==19964== Profiling application: ./Q4_MemPrefetch\n",
            "==19964== Profiling result:\n",
            "            Type  Time(%)      Time     Calls       Avg       Min       Max  Name\n",
            " GPU activities:  100.00%  6.7892ms        30  226.31us  224.28us  226.94us  square(float*, float*, int)\n",
            "      API calls:   95.35%  408.20ms         2  204.10ms  47.586us  408.16ms  cudaMallocManaged\n",
            "                    3.55%  15.208ms        30  506.94us  229.22us  8.3663ms  cudaDeviceSynchronize\n",
            "                    0.43%  1.8266ms         2  913.32us  120.52us  1.7061ms  cudaMemPrefetchAsync\n",
            "                    0.40%  1.6944ms         2  847.20us  173.69us  1.5207ms  cudaFree\n",
            "                    0.14%  588.44us         1  588.44us  588.44us  588.44us  cuDeviceTotalMem\n",
            "                    0.07%  282.72us        30  9.4230us  6.0700us  41.532us  cudaLaunchKernel\n",
            "                    0.05%  234.36us       101  2.3200us     193ns  90.992us  cuDeviceGetAttribute\n",
            "                    0.01%  35.321us         1  35.321us  35.321us  35.321us  cuDeviceGetName\n",
            "                    0.00%  7.6980us         1  7.6980us  7.6980us  7.6980us  cuDeviceGetPCIBusId\n",
            "                    0.00%  5.6020us         1  5.6020us  5.6020us  5.6020us  cudaGetDevice\n",
            "                    0.00%  2.3920us         3     797ns     382ns  1.6160us  cuDeviceGetCount\n",
            "                    0.00%  1.4510us         2     725ns     312ns  1.1390us  cuDeviceGet\n",
            "                    0.00%     450ns         1     450ns     450ns     450ns  cuDeviceGetUuid\n",
            "\n",
            "==19964== Unified Memory profiling result:\n",
            "Device \"Tesla T4 (0)\"\n",
            "   Count  Avg Size  Min Size  Max Size  Total Size  Total Time  Name\n",
            "       8  2.0000MB  2.0000MB  2.0000MB  16.00000MB  1.459334ms  Host To Device\n",
            "Total CPU Page faults: 48\n"
          ]
        },
        {
          "output_type": "execute_result",
          "data": {
            "text/plain": []
          },
          "metadata": {},
          "execution_count": 66
        }
      ]
    },
    {
      "cell_type": "code",
      "source": [
        "%%shell\n",
        "nvcc Q4_NoMemPrefetch.cu -o Q4_NoMemPrefetch\n",
        "nvprof ./Q4_NoMemPrefetch"
      ],
      "metadata": {
        "id": "fs-ec-gfbkZL",
        "colab": {
          "base_uri": "https://localhost:8080/"
        },
        "outputId": "95b370e7-2041-4f6d-d39c-87b10c2f41e5"
      },
      "execution_count": null,
      "outputs": [
        {
          "output_type": "stream",
          "name": "stdout",
          "text": [
            "==20009== NVPROF is profiling process 20009, command: ./Q4_NoMemPrefetch\n",
            "Array Size = 4194304 No. of Runs: 30\n",
            "==20009== Profiling application: ./Q4_NoMemPrefetch\n",
            "==20009== Profiling result:\n",
            "            Type  Time(%)      Time     Calls       Avg       Min       Max  Name\n",
            " GPU activities:  100.00%  18.930ms        30  630.99us  225.92us  12.352ms  square(float*, float*, int)\n",
            "      API calls:   94.33%  391.27ms         2  195.63ms  57.105us  391.21ms  cudaMallocManaged\n",
            "                    4.85%  20.135ms        30  671.18us  228.55us  13.424ms  cudaDeviceSynchronize\n",
            "                    0.54%  2.2339ms         2  1.1170ms  766.28us  1.4677ms  cudaFree\n",
            "                    0.14%  566.57us         1  566.57us  566.57us  566.57us  cuDeviceTotalMem\n",
            "                    0.07%  290.04us        30  9.6670us  5.8320us  57.149us  cudaLaunchKernel\n",
            "                    0.06%  239.18us       101  2.3680us     260ns  108.26us  cuDeviceGetAttribute\n",
            "                    0.01%  35.050us         1  35.050us  35.050us  35.050us  cuDeviceGetName\n",
            "                    0.00%  8.2760us         1  8.2760us  8.2760us  8.2760us  cuDeviceGetPCIBusId\n",
            "                    0.00%  2.1090us         3     703ns     317ns  1.3420us  cuDeviceGetCount\n",
            "                    0.00%  1.2720us         2     636ns     398ns     874ns  cuDeviceGet\n",
            "                    0.00%     424ns         1     424ns     424ns     424ns  cuDeviceGetUuid\n",
            "\n",
            "==20009== Unified Memory profiling result:\n",
            "Device \"Tesla T4 (0)\"\n",
            "   Count  Avg Size  Min Size  Max Size  Total Size  Total Time  Name\n",
            "     289  56.691KB  4.0000KB  972.00KB  16.00000MB  2.189342ms  Host To Device\n",
            "      72         -         -         -           -  12.13387ms  Gpu page fault groups\n",
            "Total CPU Page faults: 48\n"
          ]
        },
        {
          "output_type": "execute_result",
          "data": {
            "text/plain": []
          },
          "metadata": {},
          "execution_count": 67
        }
      ]
    },
    {
      "cell_type": "code",
      "source": [
        "%%writefile N.c\n",
        "const int ARRAY_SIZE = 1<<24;"
      ],
      "metadata": {
        "id": "h0TZ1P5rXBQR",
        "colab": {
          "base_uri": "https://localhost:8080/"
        },
        "outputId": "4e98b48c-b463-4748-8737-cf1020e91bd1"
      },
      "execution_count": null,
      "outputs": [
        {
          "output_type": "stream",
          "name": "stdout",
          "text": [
            "Overwriting N.c\n"
          ]
        }
      ]
    },
    {
      "cell_type": "code",
      "source": [
        "%%shell\n",
        "nvcc Q4_MemPrefetch.cu -o Q4_MemPrefetch\n",
        "nvprof ./Q4_MemPrefetch"
      ],
      "metadata": {
        "id": "0lXZDPi8XBV_",
        "colab": {
          "base_uri": "https://localhost:8080/"
        },
        "outputId": "a9883c9a-739b-4e9a-d5b9-df573af8a85c"
      },
      "execution_count": null,
      "outputs": [
        {
          "output_type": "stream",
          "name": "stdout",
          "text": [
            "==20053== NVPROF is profiling process 20053, command: ./Q4_MemPrefetch\n",
            "Array Size = 16777216 | No. of Runs: 30\n",
            "==20053== Profiling application: ./Q4_MemPrefetch\n",
            "==20053== Profiling result:\n",
            "            Type  Time(%)      Time     Calls       Avg       Min       Max  Name\n",
            " GPU activities:  100.00%  26.797ms        30  893.22us  891.22us  894.99us  square(float*, float*, int)\n",
            "      API calls:   90.61%  408.08ms         2  204.04ms  57.609us  408.02ms  cudaMallocManaged\n",
            "                    6.02%  27.124ms        30  904.14us  895.86us  1.0400ms  cudaDeviceSynchronize\n",
            "                    1.58%  7.0956ms         2  3.5478ms  1.1829ms  5.9126ms  cudaFree\n",
            "                    1.50%  6.7574ms         2  3.3787ms  640.44us  6.1170ms  cudaMemPrefetchAsync\n",
            "                    0.13%  602.48us         1  602.48us  602.48us  602.48us  cuDeviceTotalMem\n",
            "                    0.09%  409.76us        30  13.658us  7.0480us  51.428us  cudaLaunchKernel\n",
            "                    0.06%  259.04us       101  2.5640us     181ns  94.894us  cuDeviceGetAttribute\n",
            "                    0.01%  37.890us         1  37.890us  37.890us  37.890us  cuDeviceGetName\n",
            "                    0.00%  7.7900us         1  7.7900us  7.7900us  7.7900us  cudaGetDevice\n",
            "                    0.00%  6.4120us         1  6.4120us  6.4120us  6.4120us  cuDeviceGetPCIBusId\n",
            "                    0.00%  2.1420us         3     714ns     332ns  1.2430us  cuDeviceGetCount\n",
            "                    0.00%  1.3470us         2     673ns     355ns     992ns  cuDeviceGet\n",
            "                    0.00%     425ns         1     425ns     425ns     425ns  cuDeviceGetUuid\n",
            "\n",
            "==20053== Unified Memory profiling result:\n",
            "Device \"Tesla T4 (0)\"\n",
            "   Count  Avg Size  Min Size  Max Size  Total Size  Total Time  Name\n",
            "      32  2.0000MB  2.0000MB  2.0000MB  64.00000MB  5.602302ms  Host To Device\n",
            "Total CPU Page faults: 192\n"
          ]
        },
        {
          "output_type": "execute_result",
          "data": {
            "text/plain": []
          },
          "metadata": {},
          "execution_count": 69
        }
      ]
    },
    {
      "cell_type": "code",
      "source": [
        "%%shell\n",
        "nvcc Q4_NoMemPrefetch.cu -o Q4_NoMemPrefetch\n",
        "nvprof ./Q4_NoMemPrefetch"
      ],
      "metadata": {
        "id": "oNM3Ysr3blDf",
        "colab": {
          "base_uri": "https://localhost:8080/"
        },
        "outputId": "5fcf0d20-e67a-4ced-c3ed-58708fb60889"
      },
      "execution_count": null,
      "outputs": [
        {
          "output_type": "stream",
          "name": "stdout",
          "text": [
            "==20099== NVPROF is profiling process 20099, command: ./Q4_NoMemPrefetch\n",
            "Array Size = 16777216 No. of Runs: 30\n",
            "==20099== Profiling application: ./Q4_NoMemPrefetch\n",
            "==20099== Profiling result:\n",
            "            Type  Time(%)      Time     Calls       Avg       Min       Max  Name\n",
            " GPU activities:  100.00%  70.705ms        30  2.3568ms  888.82us  44.864ms  square(float*, float*, int)\n",
            "      API calls:   83.91%  428.63ms         2  214.32ms  51.452us  428.58ms  cudaMallocManaged\n",
            "                   13.97%  71.340ms        30  2.3780ms  884.99us  45.348ms  cudaDeviceSynchronize\n",
            "                    1.88%  9.5790ms         2  4.7895ms  3.9030ms  5.6760ms  cudaFree\n",
            "                    0.11%  578.96us         1  578.96us  578.96us  578.96us  cuDeviceTotalMem\n",
            "                    0.08%  410.74us        30  13.691us  7.0360us  58.405us  cudaLaunchKernel\n",
            "                    0.04%  213.18us       101  2.1100us     278ns  84.708us  cuDeviceGetAttribute\n",
            "                    0.01%  32.216us         1  32.216us  32.216us  32.216us  cuDeviceGetName\n",
            "                    0.00%  6.3890us         1  6.3890us  6.3890us  6.3890us  cuDeviceGetPCIBusId\n",
            "                    0.00%  1.9430us         3     647ns     267ns  1.0900us  cuDeviceGetCount\n",
            "                    0.00%  1.2970us         2     648ns     365ns     932ns  cuDeviceGet\n",
            "                    0.00%     408ns         1     408ns     408ns     408ns  cuDeviceGetUuid\n",
            "\n",
            "==20099== Unified Memory profiling result:\n",
            "Device \"Tesla T4 (0)\"\n",
            "   Count  Avg Size  Min Size  Max Size  Total Size  Total Time  Name\n",
            "    1018  64.377KB  4.0000KB  988.00KB  64.00000MB  8.518595ms  Host To Device\n",
            "     287         -         -         -           -  44.04641ms  Gpu page fault groups\n",
            "Total CPU Page faults: 192\n"
          ]
        },
        {
          "output_type": "execute_result",
          "data": {
            "text/plain": []
          },
          "metadata": {},
          "execution_count": 70
        }
      ]
    },
    {
      "cell_type": "code",
      "source": [
        "%%writefile blocksize.c\n",
        "const int numThreads = 1024;"
      ],
      "metadata": {
        "id": "xpSS_WoNXFR-",
        "colab": {
          "base_uri": "https://localhost:8080/"
        },
        "outputId": "2a37638f-52c6-44d6-93e6-d9cff8910923"
      },
      "execution_count": null,
      "outputs": [
        {
          "output_type": "stream",
          "name": "stdout",
          "text": [
            "Overwriting blocksize.c\n"
          ]
        }
      ]
    },
    {
      "cell_type": "code",
      "source": [
        "%%writefile N.c\n",
        "const int ARRAY_SIZE = 1<<20;"
      ],
      "metadata": {
        "id": "iHKCVe0WXFhe",
        "colab": {
          "base_uri": "https://localhost:8080/"
        },
        "outputId": "7a01c94c-2dd1-47e6-acc1-7c6551f5b36f"
      },
      "execution_count": null,
      "outputs": [
        {
          "output_type": "stream",
          "name": "stdout",
          "text": [
            "Overwriting N.c\n"
          ]
        }
      ]
    },
    {
      "cell_type": "code",
      "source": [
        "%%shell\n",
        "nvcc Q4_MemPrefetch.cu -o Q4_MemPrefetch\n",
        "nvprof ./Q4_MemPrefetch"
      ],
      "metadata": {
        "id": "7Zsb52BrXFoO",
        "colab": {
          "base_uri": "https://localhost:8080/"
        },
        "outputId": "05657586-78ab-41eb-86f2-1110a2a7f59f"
      },
      "execution_count": null,
      "outputs": [
        {
          "output_type": "stream",
          "name": "stdout",
          "text": [
            "==20143== NVPROF is profiling process 20143, command: ./Q4_MemPrefetch\n",
            "Array Size = 1048576 | No. of Runs: 30\n",
            "==20143== Profiling application: ./Q4_MemPrefetch\n",
            "==20143== Profiling result:\n",
            "            Type  Time(%)      Time     Calls       Avg       Min       Max  Name\n",
            " GPU activities:  100.00%  2.1347ms        30  71.157us  69.951us  72.479us  square(float*, float*, int)\n",
            "      API calls:   96.80%  379.31ms         2  189.66ms  48.316us  379.26ms  cudaMallocManaged\n",
            "                    2.62%  10.262ms        30  342.08us  73.705us  8.0663ms  cudaDeviceSynchronize\n",
            "                    0.17%  651.23us         1  651.23us  651.23us  651.23us  cuDeviceTotalMem\n",
            "                    0.14%  551.80us         2  275.90us  68.476us  483.33us  cudaFree\n",
            "                    0.14%  550.72us         2  275.36us  117.25us  433.47us  cudaMemPrefetchAsync\n",
            "                    0.07%  258.03us        30  8.6010us  5.8010us  36.975us  cudaLaunchKernel\n",
            "                    0.05%  207.53us       101  2.0540us     236ns  84.115us  cuDeviceGetAttribute\n",
            "                    0.01%  33.262us         1  33.262us  33.262us  33.262us  cuDeviceGetName\n",
            "                    0.00%  19.239us         1  19.239us  19.239us  19.239us  cuDeviceGetPCIBusId\n",
            "                    0.00%  4.4400us         1  4.4400us  4.4400us  4.4400us  cudaGetDevice\n",
            "                    0.00%  2.3620us         3     787ns     342ns  1.2860us  cuDeviceGetCount\n",
            "                    0.00%  1.2850us         2     642ns     410ns     875ns  cuDeviceGet\n",
            "                    0.00%     405ns         1     405ns     405ns     405ns  cuDeviceGetUuid\n",
            "\n",
            "==20143== Unified Memory profiling result:\n",
            "Device \"Tesla T4 (0)\"\n",
            "   Count  Avg Size  Min Size  Max Size  Total Size  Total Time  Name\n",
            "       2  2.0000MB  2.0000MB  2.0000MB  4.000000MB  365.1460us  Host To Device\n",
            "Total CPU Page faults: 12\n"
          ]
        },
        {
          "output_type": "execute_result",
          "data": {
            "text/plain": []
          },
          "metadata": {},
          "execution_count": 73
        }
      ]
    },
    {
      "cell_type": "code",
      "source": [
        "%%shell\n",
        "nvcc Q4_NoMemPrefetch.cu -o Q4_NoMemPrefetch\n",
        "nvprof ./Q4_NoMemPrefetch"
      ],
      "metadata": {
        "id": "fFRjeMwFblpO",
        "colab": {
          "base_uri": "https://localhost:8080/"
        },
        "outputId": "00597336-ec12-4172-da15-eede921468c4"
      },
      "execution_count": null,
      "outputs": [
        {
          "output_type": "stream",
          "name": "stdout",
          "text": [
            "==20188== NVPROF is profiling process 20188, command: ./Q4_NoMemPrefetch\n",
            "Array Size = 1048576 No. of Runs: 30\n",
            "==20188== Profiling application: ./Q4_NoMemPrefetch\n",
            "==20188== Profiling result:\n",
            "            Type  Time(%)      Time     Calls       Avg       Min       Max  Name\n",
            " GPU activities:  100.00%  4.4049ms        30  146.83us  71.327us  2.3057ms  square(float*, float*, int)\n",
            "      API calls:   98.47%  403.30ms         2  201.65ms  36.912us  403.27ms  cudaMallocManaged\n",
            "                    1.11%  4.5372ms        30  151.24us  63.135us  2.3307ms  cudaDeviceSynchronize\n",
            "                    0.14%  574.39us         2  287.20us  151.53us  422.86us  cudaFree\n",
            "                    0.14%  562.53us         1  562.53us  562.53us  562.53us  cuDeviceTotalMem\n",
            "                    0.07%  280.70us        30  9.3560us  6.0470us  50.900us  cudaLaunchKernel\n",
            "                    0.06%  250.14us       101  2.4760us     260ns  114.88us  cuDeviceGetAttribute\n",
            "                    0.01%  31.855us         1  31.855us  31.855us  31.855us  cuDeviceGetName\n",
            "                    0.00%  7.7680us         1  7.7680us  7.7680us  7.7680us  cuDeviceGetPCIBusId\n",
            "                    0.00%  2.3160us         3     772ns     304ns  1.4570us  cuDeviceGetCount\n",
            "                    0.00%  1.2010us         2     600ns     361ns     840ns  cuDeviceGet\n",
            "                    0.00%     486ns         1     486ns     486ns     486ns  cuDeviceGetUuid\n",
            "\n",
            "==20188== Unified Memory profiling result:\n",
            "Device \"Tesla T4 (0)\"\n",
            "   Count  Avg Size  Min Size  Max Size  Total Size  Total Time  Name\n",
            "      64  64.000KB  4.0000KB  932.00KB  4.000000MB  529.6890us  Host To Device\n",
            "      17         -         -         -           -  2.440469ms  Gpu page fault groups\n",
            "Total CPU Page faults: 12\n"
          ]
        },
        {
          "output_type": "execute_result",
          "data": {
            "text/plain": []
          },
          "metadata": {},
          "execution_count": 74
        }
      ]
    },
    {
      "cell_type": "code",
      "source": [
        "%%writefile N.c\n",
        "const int ARRAY_SIZE = 1<<22;"
      ],
      "metadata": {
        "id": "1Cmrb5POXFwv",
        "colab": {
          "base_uri": "https://localhost:8080/"
        },
        "outputId": "f69366e7-986f-478d-a1e0-c680cd0cbe59"
      },
      "execution_count": null,
      "outputs": [
        {
          "output_type": "stream",
          "name": "stdout",
          "text": [
            "Overwriting N.c\n"
          ]
        }
      ]
    },
    {
      "cell_type": "code",
      "source": [
        "%%shell\n",
        "nvcc Q4_MemPrefetch.cu -o Q4_MemPrefetch\n",
        "nvprof ./Q4_MemPrefetch"
      ],
      "metadata": {
        "id": "0hsXX3ojXF3d",
        "colab": {
          "base_uri": "https://localhost:8080/"
        },
        "outputId": "f7d2604b-811b-46ae-ed5f-6c3479bea96f"
      },
      "execution_count": null,
      "outputs": [
        {
          "output_type": "stream",
          "name": "stdout",
          "text": [
            "==20232== NVPROF is profiling process 20232, command: ./Q4_MemPrefetch\n",
            "Array Size = 4194304 | No. of Runs: 30\n",
            "==20232== Profiling application: ./Q4_MemPrefetch\n",
            "==20232== Profiling result:\n",
            "            Type  Time(%)      Time     Calls       Avg       Min       Max  Name\n",
            " GPU activities:  100.00%  8.0235ms        30  267.45us  266.01us  268.41us  square(float*, float*, int)\n",
            "      API calls:   96.70%  392.02ms         2  196.01ms  39.569us  391.98ms  cudaMallocManaged\n",
            "                    2.02%  8.1723ms        30  272.41us  269.94us  286.09us  cudaDeviceSynchronize\n",
            "                    0.55%  2.2207ms         2  1.1103ms  694.78us  1.5259ms  cudaFree\n",
            "                    0.46%  1.8554ms         2  927.71us  114.13us  1.7413ms  cudaMemPrefetchAsync\n",
            "                    0.15%  609.61us         1  609.61us  609.61us  609.61us  cuDeviceTotalMem\n",
            "                    0.06%  259.10us        30  8.6360us  6.3550us  43.000us  cudaLaunchKernel\n",
            "                    0.05%  219.35us       101  2.1710us     233ns  88.985us  cuDeviceGetAttribute\n",
            "                    0.01%  36.853us         1  36.853us  36.853us  36.853us  cuDeviceGetName\n",
            "                    0.00%  7.1280us         1  7.1280us  7.1280us  7.1280us  cuDeviceGetPCIBusId\n",
            "                    0.00%  4.8810us         1  4.8810us  4.8810us  4.8810us  cudaGetDevice\n",
            "                    0.00%  2.7530us         3     917ns     321ns  1.6520us  cuDeviceGetCount\n",
            "                    0.00%  1.1780us         2     589ns     352ns     826ns  cuDeviceGet\n",
            "                    0.00%     458ns         1     458ns     458ns     458ns  cuDeviceGetUuid\n",
            "\n",
            "==20232== Unified Memory profiling result:\n",
            "Device \"Tesla T4 (0)\"\n",
            "   Count  Avg Size  Min Size  Max Size  Total Size  Total Time  Name\n",
            "       8  2.0000MB  2.0000MB  2.0000MB  16.00000MB  1.408743ms  Host To Device\n",
            "Total CPU Page faults: 48\n"
          ]
        },
        {
          "output_type": "execute_result",
          "data": {
            "text/plain": []
          },
          "metadata": {},
          "execution_count": 76
        }
      ]
    },
    {
      "cell_type": "code",
      "source": [
        "%%shell\n",
        "nvcc Q4_NoMemPrefetch.cu -o Q4_NoMemPrefetch\n",
        "nvprof ./Q4_NoMemPrefetch"
      ],
      "metadata": {
        "id": "TfAhfIK-bmUb",
        "colab": {
          "base_uri": "https://localhost:8080/"
        },
        "outputId": "5334e1a9-1f13-40ac-ec7d-de400b7ea215"
      },
      "execution_count": null,
      "outputs": [
        {
          "output_type": "stream",
          "name": "stdout",
          "text": [
            "==20276== NVPROF is profiling process 20276, command: ./Q4_NoMemPrefetch\n",
            "Array Size = 4194304 No. of Runs: 30\n",
            "==20276== Profiling application: ./Q4_NoMemPrefetch\n",
            "==20276== Profiling result:\n",
            "            Type  Time(%)      Time     Calls       Avg       Min       Max  Name\n",
            " GPU activities:  100.00%  18.497ms        30  616.58us  270.52us  10.582ms  square(float*, float*, int)\n",
            "      API calls:   94.79%  400.85ms         2  200.42ms  43.780us  400.81ms  cudaMallocManaged\n",
            "                    4.41%  18.634ms        30  621.13us  274.42us  10.590ms  cudaDeviceSynchronize\n",
            "                    0.54%  2.2973ms         2  1.1486ms  774.95us  1.5223ms  cudaFree\n",
            "                    0.13%  550.70us         1  550.70us  550.70us  550.70us  cuDeviceTotalMem\n",
            "                    0.07%  290.01us        30  9.6660us  5.9350us  58.044us  cudaLaunchKernel\n",
            "                    0.05%  218.23us       101  2.1600us     262ns  86.527us  cuDeviceGetAttribute\n",
            "                    0.01%  36.385us         1  36.385us  36.385us  36.385us  cuDeviceGetName\n",
            "                    0.00%  6.6980us         1  6.6980us  6.6980us  6.6980us  cuDeviceGetPCIBusId\n",
            "                    0.00%  2.2440us         3     748ns     246ns  1.3770us  cuDeviceGetCount\n",
            "                    0.00%  1.1310us         2     565ns     365ns     766ns  cuDeviceGet\n",
            "                    0.00%     627ns         1     627ns     627ns     627ns  cuDeviceGetUuid\n",
            "\n",
            "==20276== Unified Memory profiling result:\n",
            "Device \"Tesla T4 (0)\"\n",
            "   Count  Avg Size  Min Size  Max Size  Total Size  Total Time  Name\n",
            "     250  65.535KB  4.0000KB  928.00KB  16.00000MB  2.083648ms  Host To Device\n",
            "      70         -         -         -           -  10.53938ms  Gpu page fault groups\n",
            "Total CPU Page faults: 48\n"
          ]
        },
        {
          "output_type": "execute_result",
          "data": {
            "text/plain": []
          },
          "metadata": {},
          "execution_count": 77
        }
      ]
    },
    {
      "cell_type": "code",
      "source": [
        "%%writefile N.c\n",
        "const int ARRAY_SIZE = 1<<24;"
      ],
      "metadata": {
        "id": "izb_bvFjXF-N",
        "colab": {
          "base_uri": "https://localhost:8080/"
        },
        "outputId": "06eb714c-e2b2-47ba-ccf8-3e22ec037a49"
      },
      "execution_count": null,
      "outputs": [
        {
          "output_type": "stream",
          "name": "stdout",
          "text": [
            "Overwriting N.c\n"
          ]
        }
      ]
    },
    {
      "cell_type": "code",
      "source": [
        "%%shell\n",
        "nvcc Q4_MemPrefetch.cu -o Q4_MemPrefetch\n",
        "nvprof ./Q4_MemPrefetch"
      ],
      "metadata": {
        "id": "uomz_m5yXGFA",
        "colab": {
          "base_uri": "https://localhost:8080/"
        },
        "outputId": "d1e46855-15b5-4ac0-b57b-50e428288235"
      },
      "execution_count": null,
      "outputs": [
        {
          "output_type": "stream",
          "name": "stdout",
          "text": [
            "==20320== NVPROF is profiling process 20320, command: ./Q4_MemPrefetch\n",
            "Array Size = 16777216 | No. of Runs: 30\n",
            "==20320== Profiling application: ./Q4_MemPrefetch\n",
            "==20320== Profiling result:\n",
            "            Type  Time(%)      Time     Calls       Avg       Min       Max  Name\n",
            " GPU activities:  100.00%  32.547ms        30  1.0849ms  1.0816ms  1.0903ms  square(float*, float*, int)\n",
            "      API calls:   88.00%  401.76ms         2  200.88ms  47.871us  401.71ms  cudaMallocManaged\n",
            "                    9.10%  41.550ms        30  1.3850ms  1.0856ms  9.9416ms  cudaDeviceSynchronize\n",
            "                    1.34%  6.1324ms         2  3.0662ms  550.36us  5.5820ms  cudaFree\n",
            "                    1.29%  5.9100ms         2  2.9550ms  131.99us  5.7780ms  cudaMemPrefetchAsync\n",
            "                    0.13%  577.94us         1  577.94us  577.94us  577.94us  cuDeviceTotalMem\n",
            "                    0.07%  332.18us        30  11.072us  7.5320us  43.854us  cudaLaunchKernel\n",
            "                    0.05%  234.71us       101  2.3230us     254ns  110.54us  cuDeviceGetAttribute\n",
            "                    0.01%  35.050us         1  35.050us  35.050us  35.050us  cuDeviceGetName\n",
            "                    0.00%  7.0660us         1  7.0660us  7.0660us  7.0660us  cuDeviceGetPCIBusId\n",
            "                    0.00%  6.8190us         1  6.8190us  6.8190us  6.8190us  cudaGetDevice\n",
            "                    0.00%  2.0240us         3     674ns     312ns  1.2150us  cuDeviceGetCount\n",
            "                    0.00%  1.3910us         2     695ns     397ns     994ns  cuDeviceGet\n",
            "                    0.00%     466ns         1     466ns     466ns     466ns  cuDeviceGetUuid\n",
            "\n",
            "==20320== Unified Memory profiling result:\n",
            "Device \"Tesla T4 (0)\"\n",
            "   Count  Avg Size  Min Size  Max Size  Total Size  Total Time  Name\n",
            "      32  2.0000MB  2.0000MB  2.0000MB  64.00000MB  5.615549ms  Host To Device\n",
            "Total CPU Page faults: 192\n"
          ]
        },
        {
          "output_type": "execute_result",
          "data": {
            "text/plain": []
          },
          "metadata": {},
          "execution_count": 79
        }
      ]
    },
    {
      "cell_type": "code",
      "source": [
        "%%shell\n",
        "nvcc Q4_NoMemPrefetch.cu -o Q4_NoMemPrefetch\n",
        "nvprof ./Q4_NoMemPrefetch"
      ],
      "metadata": {
        "id": "EX6kIxzsbm8U",
        "colab": {
          "base_uri": "https://localhost:8080/"
        },
        "outputId": "d279d3b8-4f71-43d5-eae2-beb382d5b936"
      },
      "execution_count": null,
      "outputs": [
        {
          "output_type": "stream",
          "name": "stdout",
          "text": [
            "==20367== NVPROF is profiling process 20367, command: ./Q4_NoMemPrefetch\n",
            "Array Size = 16777216 No. of Runs: 30\n",
            "==20367== Profiling application: ./Q4_NoMemPrefetch\n",
            "==20367== Profiling result:\n",
            "            Type  Time(%)      Time     Calls       Avg       Min       Max  Name\n",
            " GPU activities:  100.00%  76.110ms        30  2.5370ms  1.0681ms  44.947ms  square(float*, float*, int)\n",
            "      API calls:   82.55%  410.15ms         2  205.08ms  48.444us  410.10ms  cudaMallocManaged\n",
            "                   15.35%  76.255ms        30  2.5418ms  1.0726ms  44.961ms  cudaDeviceSynchronize\n",
            "                    1.84%  9.1482ms         2  4.5741ms  3.3094ms  5.8388ms  cudaFree\n",
            "                    0.12%  613.83us         1  613.83us  613.83us  613.83us  cuDeviceTotalMem\n",
            "                    0.08%  381.12us        30  12.703us  7.8960us  69.177us  cudaLaunchKernel\n",
            "                    0.05%  233.88us       101  2.3150us     265ns  88.360us  cuDeviceGetAttribute\n",
            "                    0.01%  36.480us         1  36.480us  36.480us  36.480us  cuDeviceGetName\n",
            "                    0.00%  6.9650us         1  6.9650us  6.9650us  6.9650us  cuDeviceGetPCIBusId\n",
            "                    0.00%  2.3420us         3     780ns     338ns  1.3950us  cuDeviceGetCount\n",
            "                    0.00%  1.3860us         2     693ns     449ns     937ns  cuDeviceGet\n",
            "                    0.00%     433ns         1     433ns     433ns     433ns  cuDeviceGetUuid\n",
            "\n",
            "==20367== Unified Memory profiling result:\n",
            "Device \"Tesla T4 (0)\"\n",
            "   Count  Avg Size  Min Size  Max Size  Total Size  Total Time  Name\n",
            "    1134  57.791KB  4.0000KB  936.00KB  64.00000MB  8.675645ms  Host To Device\n",
            "     280         -         -         -           -  44.05673ms  Gpu page fault groups\n",
            "Total CPU Page faults: 192\n"
          ]
        },
        {
          "output_type": "execute_result",
          "data": {
            "text/plain": []
          },
          "metadata": {},
          "execution_count": 80
        }
      ]
    },
    {
      "cell_type": "code",
      "source": [],
      "metadata": {
        "id": "b-a7FpgKim4N"
      },
      "execution_count": null,
      "outputs": []
    }
  ]
}