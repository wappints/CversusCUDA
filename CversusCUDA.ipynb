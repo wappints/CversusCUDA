{
  "nbformat": 4,
  "nbformat_minor": 0,
  "metadata": {
    "colab": {
      "provenance": [],
      "include_colab_link": true
    },
    "kernelspec": {
      "name": "python3",
      "display_name": "Python 3"
    },
    "language_info": {
      "name": "python"
    },
    "accelerator": "GPU"
  },
  "cells": [
    {
      "cell_type": "markdown",
      "metadata": {
        "id": "view-in-github",
        "colab_type": "text"
      },
      "source": [
        "<a href=\"https://colab.research.google.com/github/wappints/CversusCUDA/blob/main/CversusCUDA.ipynb\" target=\"_parent\"><img src=\"https://colab.research.google.com/assets/colab-badge.svg\" alt=\"Open In Colab\"/></a>"
      ]
    },
    {
      "cell_type": "code",
      "source": [
        "%%writefile runs.c\n",
        "const int runs = 30;"
      ],
      "metadata": {
        "colab": {
          "base_uri": "https://localhost:8080/"
        },
        "id": "JDPwrTbtZA4W",
        "outputId": "3489dcb2-2007-4753-9479-704bc42b6a5f"
      },
      "execution_count": null,
      "outputs": [
        {
          "output_type": "stream",
          "name": "stdout",
          "text": [
            "Overwriting runs.c\n"
          ]
        }
      ]
    },
    {
      "cell_type": "code",
      "execution_count": null,
      "metadata": {
        "colab": {
          "base_uri": "https://localhost:8080/"
        },
        "id": "GksM-NcOMimY",
        "outputId": "3d86528e-c142-4351-c4cb-86f245885fa3"
      },
      "outputs": [
        {
          "output_type": "stream",
          "name": "stdout",
          "text": [
            "Overwriting dotproductC.c\n"
          ]
        }
      ],
      "source": [
        "%%writefile dotproductC.c\n",
        "\n",
        "#include <stdio.h>\n",
        "#include <stdlib.h>\n",
        "#include <time.h>\n",
        "#include \"N.c\"\n",
        "#include \"runs.c\"\n",
        "void dotproduct(int n, float *dotp, float *h_in, float *h_in2) {\n",
        "    for(int i = 0; i < n; i++) {\n",
        "      *dotp += (h_in[i] * h_in2[i]) ; // summation of products \n",
        "    }\n",
        "\n",
        "}\n",
        "int main() {\n",
        "  const int ARRAY_BYTES = ARRAY_SIZE*sizeof(float);\n",
        "  double total = 0;\n",
        "  float *in_x, *in_y, *dotp;\n",
        "\n",
        "  in_x = (float*) malloc(ARRAY_BYTES);\n",
        "  in_y = (float*) malloc(ARRAY_BYTES);\n",
        "  dotp = (float*) malloc(ARRAY_BYTES);\n",
        "\n",
        "  for (int x = 0; x < ARRAY_SIZE; x++) { // initialize array in_x to 2.0 for all indices \n",
        "    in_x[x] = float(2);\n",
        "  }\n",
        "\n",
        "  for (int y = 0; y < ARRAY_SIZE; y++) { // initialize array in_y to 3.0 for all indices \n",
        "    in_y[y] = float(3);\n",
        "  }\n",
        "\n",
        "  clock_t start, end;\n",
        "  for (int i = 0; i < runs; i++) {\n",
        "    start = clock();\n",
        "    dotproduct(ARRAY_SIZE, dotp, in_x, in_y); // dotp should have summation of 6's in 1...N=ARRAY_SIZE \n",
        "    end = clock();\n",
        "\n",
        "    double time_taken = ((double)(end-start))*1e6/CLOCKS_PER_SEC;\n",
        "    total += time_taken;\n",
        "\n",
        "    if (i < 1)\n",
        "      printf(\"DotProduct = %f of every run\", *dotp); // print once the dot product result\n",
        "   *dotp = 0; // clear the dot product result from the dotp variable\n",
        "  }\n",
        "  total = total/runs;\n",
        "  printf(\" | Array Size = %d | Execution Time = %f μs | No. of Runs: %d\", ARRAY_SIZE, total, runs);\n",
        "  return 0;\n",
        "}"
      ]
    },
    {
      "cell_type": "code",
      "source": [
        "%%writefile dotproductCu.cu\n",
        "\n",
        "#include <stdio.h>\n",
        "#include <stdlib.h>\n",
        "#include \"N.c\"\n",
        "#include \"runs.c\"\n",
        "#include \"blocksize.c\"\n",
        "\n",
        "__global__ \n",
        "void dotproduct(float *dotp, int n, float *h_in, float *h_in2) { //grid-stride dotproduct \n",
        "  int index = blockIdx.x * blockDim.x + threadIdx.x;\n",
        "  int stride = blockDim.x * gridDim.x;\n",
        "  for (int i =index; i<n; i+=stride) {\n",
        "    atomicAdd(dotp, h_in[i] * h_in2[i]); //mutex lock\n",
        "  }\n",
        "\n",
        "\n",
        "}\n",
        "\n",
        "int main() {\n",
        "  const int ARRAY_BYTES = ARRAY_SIZE*sizeof(float);\n",
        "  float *in_x, *in_y, *dotp;\n",
        "  // allocate memory CUDA \n",
        "  cudaMallocManaged(&in_x, ARRAY_BYTES);\n",
        "  cudaMallocManaged(&in_y, ARRAY_BYTES);\n",
        "  cudaMallocManaged(&dotp, ARRAY_BYTES);\n",
        "\n",
        "  for (int x = 0; x < ARRAY_SIZE; x++) { // initialize array in_x to 2.0 for all indices \n",
        "    in_x[x] = float(2);\n",
        "  }\n",
        "  for (int y = 0; y < ARRAY_SIZE; y++) { // initialize array in_y to 3.0 for all indices \n",
        "    in_y[y] = float(3);\n",
        "  }\n",
        "\n",
        "  int numblocks = (ARRAY_SIZE+blocksize-1)/blocksize; // get the right numblocks \n",
        "  for (int i = 0; i < runs; i++) {\n",
        "    dotproduct<<<numblocks , blocksize>>> (dotp, ARRAY_SIZE, in_x, in_y);      \n",
        "    cudaDeviceSynchronize();      \n",
        "    if (i < 1)\n",
        "      printf(\"Dot Product = %f \", *dotp); // print only once to prevent repetitive prints of dot product output \n",
        "    *dotp = 0; // reset dotp variable \n",
        "  }\n",
        "   printf(\"| Array Size = %d | No. of Runs: %d\\n\", ARRAY_SIZE, runs);\n",
        "\n",
        "   // free memory \n",
        "  cudaFree(in_x);\n",
        "  cudaFree(in_y);\n",
        "  cudaFree(dotp);\n",
        "\n",
        "  return 0;\n",
        "}"
      ],
      "metadata": {
        "colab": {
          "base_uri": "https://localhost:8080/"
        },
        "id": "eHJPxxsbbGtK",
        "outputId": "aa59f605-1a8b-4eeb-fb76-c78098b619c5"
      },
      "execution_count": null,
      "outputs": [
        {
          "output_type": "stream",
          "name": "stdout",
          "text": [
            "Overwriting dotproductCu.cu\n"
          ]
        }
      ]
    },
    {
      "cell_type": "code",
      "source": [
        "%%writefile blocksize.c\n",
        "const int blocksize = 1024;"
      ],
      "metadata": {
        "colab": {
          "base_uri": "https://localhost:8080/"
        },
        "id": "8jSWqFFy946_",
        "outputId": "ea336270-9f6c-45d1-e4bb-ad9a91dc2d5a"
      },
      "execution_count": null,
      "outputs": [
        {
          "output_type": "stream",
          "name": "stdout",
          "text": [
            "Overwriting blocksize.c\n"
          ]
        }
      ]
    },
    {
      "cell_type": "code",
      "source": [
        "%%writefile N.c\n",
        "const int ARRAY_SIZE = 1<<20;"
      ],
      "metadata": {
        "colab": {
          "base_uri": "https://localhost:8080/"
        },
        "id": "2Q-TELcjZhhF",
        "outputId": "1ee76031-21d4-4441-f64f-de2f7bd4926a"
      },
      "execution_count": null,
      "outputs": [
        {
          "output_type": "stream",
          "name": "stdout",
          "text": [
            "Overwriting N.c\n"
          ]
        }
      ]
    },
    {
      "cell_type": "code",
      "source": [
        "%%shell\n",
        "g++ dotproductC.c -o dotproductC\n",
        "./dotproductC"
      ],
      "metadata": {
        "colab": {
          "base_uri": "https://localhost:8080/"
        },
        "id": "HQvD3Cf2ZmSe",
        "outputId": "ba80feac-d0e5-4ce3-f1ff-6d2d8b9621d9"
      },
      "execution_count": null,
      "outputs": [
        {
          "output_type": "stream",
          "name": "stdout",
          "text": [
            "DotProduct = 6291456.000000 of every run | Array Size = 1048576 | Execution Time = 4132.766667 μs | No. of Runs: 30"
          ]
        },
        {
          "output_type": "execute_result",
          "data": {
            "text/plain": []
          },
          "metadata": {},
          "execution_count": 6
        }
      ]
    },
    {
      "cell_type": "markdown",
      "source": [
        "Execution Time = 4132.766667 μs"
      ],
      "metadata": {
        "id": "L8mKRV7DOoCT"
      }
    },
    {
      "cell_type": "code",
      "source": [
        "%%shell\n",
        "nvcc dotproductCu.cu -o dotproductCu\n",
        "nvprof ./dotproductCu"
      ],
      "metadata": {
        "colab": {
          "base_uri": "https://localhost:8080/"
        },
        "id": "mmg91l3CcFoJ",
        "outputId": "8719f2e4-e851-47e8-8075-910e2a33dcec"
      },
      "execution_count": null,
      "outputs": [
        {
          "output_type": "stream",
          "name": "stdout",
          "text": [
            "==6457== NVPROF is profiling process 6457, command: ./dotproductCu\n",
            "Dot Product = 6291456.000000 | Array Size = 1048576 | No. of Runs: 30\n",
            "==6457== Profiling application: ./dotproductCu\n",
            "==6457== Profiling result:\n",
            "            Type  Time(%)      Time     Calls       Avg       Min       Max  Name\n",
            " GPU activities:  100.00%  117.45ms        30  3.9151ms  3.7713ms  6.3513ms  dotproduct(float*, int, float*, float*)\n",
            "      API calls:   73.95%  340.74ms         3  113.58ms  12.234us  340.67ms  cudaMallocManaged\n",
            "                   25.54%  117.69ms        30  3.9229ms  3.7772ms  6.3747ms  cudaDeviceSynchronize\n",
            "                    0.21%  955.82us         3  318.61us  106.15us  450.58us  cudaFree\n",
            "                    0.13%  619.71us        30  20.657us  13.967us  73.469us  cudaLaunchKernel\n",
            "                    0.12%  548.06us         1  548.06us  548.06us  548.06us  cuDeviceTotalMem\n",
            "                    0.04%  184.92us       101  1.8300us     130ns  79.990us  cuDeviceGetAttribute\n",
            "                    0.01%  42.809us         1  42.809us  42.809us  42.809us  cuDeviceGetName\n",
            "                    0.00%  6.8670us         1  6.8670us  6.8670us  6.8670us  cuDeviceGetPCIBusId\n",
            "                    0.00%  2.8580us         3     952ns     391ns  1.6510us  cuDeviceGetCount\n",
            "                    0.00%  1.7940us         2     897ns     383ns  1.4110us  cuDeviceGet\n",
            "                    0.00%     272ns         1     272ns     272ns     272ns  cuDeviceGetUuid\n",
            "\n",
            "==6457== Unified Memory profiling result:\n",
            "Device \"Tesla T4 (0)\"\n",
            "   Count  Avg Size  Min Size  Max Size  Total Size  Total Time  Name\n",
            "      94  90.936KB  4.0000KB  984.00KB  8.347656MB  999.9950us  Host To Device\n",
            "      34  10.588KB  4.0000KB  60.000KB  360.0000KB  87.80700us  Device To Host\n",
            "      40         -         -         -           -  7.279611ms  Gpu page fault groups\n",
            "      22  4.0000KB  4.0000KB  4.0000KB  88.00000KB           -  Memory thrashes\n",
            "Total CPU Page faults: 54\n",
            "Total CPU thrashes: 22\n"
          ]
        },
        {
          "output_type": "execute_result",
          "data": {
            "text/plain": []
          },
          "metadata": {},
          "execution_count": 7
        }
      ]
    },
    {
      "cell_type": "markdown",
      "source": [
        "Execution Time = 3915.1 μs"
      ],
      "metadata": {
        "id": "AHc7mWw_OjPj"
      }
    },
    {
      "cell_type": "code",
      "source": [
        "%%writefile N.c\n",
        "const int ARRAY_SIZE = 1<<22;"
      ],
      "metadata": {
        "colab": {
          "base_uri": "https://localhost:8080/"
        },
        "id": "QArSEe5CbD3g",
        "outputId": "2d49656e-5e63-460b-9f53-8ae27632bf3a"
      },
      "execution_count": null,
      "outputs": [
        {
          "output_type": "stream",
          "name": "stdout",
          "text": [
            "Overwriting N.c\n"
          ]
        }
      ]
    },
    {
      "cell_type": "code",
      "source": [
        "%%shell\n",
        "g++ dotproductC.c -o dotproductC\n",
        "./dotproductC"
      ],
      "metadata": {
        "colab": {
          "base_uri": "https://localhost:8080/"
        },
        "id": "EESykNLhbDyP",
        "outputId": "c01985f7-82ea-43de-835f-6c8d7bee6c63"
      },
      "execution_count": null,
      "outputs": [
        {
          "output_type": "stream",
          "name": "stdout",
          "text": [
            "DotProduct = 25165824.000000 of every run | Array Size = 4194304 | Execution Time = 13562.666667 μs | No. of Runs: 30"
          ]
        },
        {
          "output_type": "execute_result",
          "data": {
            "text/plain": []
          },
          "metadata": {},
          "execution_count": 9
        }
      ]
    },
    {
      "cell_type": "markdown",
      "source": [
        "Execution Time = 13562.666667 μs"
      ],
      "metadata": {
        "id": "_KZTpbmqOWMZ"
      }
    },
    {
      "cell_type": "code",
      "source": [
        "%%shell\n",
        "nvcc dotproductCu.cu -o dotproductCu\n",
        "nvprof ./dotproductCu"
      ],
      "metadata": {
        "colab": {
          "base_uri": "https://localhost:8080/"
        },
        "id": "FNFNCjVbcOd9",
        "outputId": "d19ee66e-9431-4d69-927c-218adefcb662"
      },
      "execution_count": null,
      "outputs": [
        {
          "output_type": "stream",
          "name": "stdout",
          "text": [
            "==6512== NVPROF is profiling process 6512, command: ./dotproductCu\n",
            "Dot Product = 25165824.000000 | Array Size = 4194304 | No. of Runs: 30\n",
            "==6512== Profiling application: ./dotproductCu\n",
            "==6512== Profiling result:\n",
            "            Type  Time(%)      Time     Calls       Avg       Min       Max  Name\n",
            " GPU activities:  100.00%  390.88ms        30  13.029ms  8.4491ms  24.415ms  dotproduct(float*, int, float*, float*)\n",
            "      API calls:   53.16%  391.15ms        30  13.038ms  8.4579ms  24.428ms  cudaDeviceSynchronize\n",
            "                   46.34%  341.02ms         3  113.67ms  24.081us  340.94ms  cudaMallocManaged\n",
            "                    0.27%  2.0060ms         3  668.67us  66.459us  1.0285ms  cudaFree\n",
            "                    0.14%  999.14us        30  33.304us  17.799us  57.935us  cudaLaunchKernel\n",
            "                    0.06%  413.48us         1  413.48us  413.48us  413.48us  cuDeviceTotalMem\n",
            "                    0.03%  217.20us       101  2.1500us     137ns  104.36us  cuDeviceGetAttribute\n",
            "                    0.00%  30.898us         1  30.898us  30.898us  30.898us  cuDeviceGetName\n",
            "                    0.00%  5.9040us         1  5.9040us  5.9040us  5.9040us  cuDeviceGetPCIBusId\n",
            "                    0.00%  2.0840us         3     694ns     208ns  1.3900us  cuDeviceGetCount\n",
            "                    0.00%  1.6460us         2     823ns     252ns  1.3940us  cuDeviceGet\n",
            "                    0.00%     298ns         1     298ns     298ns     298ns  cuDeviceGetUuid\n",
            "\n",
            "==6512== Unified Memory profiling result:\n",
            "Device \"Tesla T4 (0)\"\n",
            "   Count  Avg Size  Min Size  Max Size  Total Size  Total Time  Name\n",
            "     270  122.68KB  4.0000KB  984.00KB  32.34766MB  3.608019ms  Host To Device\n",
            "      34  10.588KB  4.0000KB  60.000KB  360.0000KB  81.12000us  Device To Host\n",
            "      76         -         -         -           -  17.27782ms  Gpu page fault groups\n",
            "      22  4.0000KB  4.0000KB  4.0000KB  88.00000KB           -  Memory thrashes\n",
            "Total CPU Page faults: 126\n",
            "Total CPU thrashes: 22\n"
          ]
        },
        {
          "output_type": "execute_result",
          "data": {
            "text/plain": []
          },
          "metadata": {},
          "execution_count": 10
        }
      ]
    },
    {
      "cell_type": "markdown",
      "source": [
        "Execution Time = 13029.0 μs"
      ],
      "metadata": {
        "id": "0jLdLd1dOU0I"
      }
    },
    {
      "cell_type": "code",
      "source": [
        "%%writefile N.c\n",
        "const int ARRAY_SIZE = 1<<24;"
      ],
      "metadata": {
        "colab": {
          "base_uri": "https://localhost:8080/"
        },
        "id": "Mx9mphP5bDb-",
        "outputId": "7cce6c75-df8e-43b0-e148-5732b3eca7be"
      },
      "execution_count": null,
      "outputs": [
        {
          "output_type": "stream",
          "name": "stdout",
          "text": [
            "Overwriting N.c\n"
          ]
        }
      ]
    },
    {
      "cell_type": "code",
      "source": [
        "%%shell\n",
        "g++ dotproductC.c -o dotproductC\n",
        "./dotproductC"
      ],
      "metadata": {
        "colab": {
          "base_uri": "https://localhost:8080/"
        },
        "id": "h1olt-P-Ztw1",
        "outputId": "0dc73e52-be76-4b81-bb2f-ac983d7c722a"
      },
      "execution_count": null,
      "outputs": [
        {
          "output_type": "stream",
          "name": "stdout",
          "text": [
            "DotProduct = 123032912.000000 of every run | Array Size = 16777216 | Execution Time = 55287.533333 μs | No. of Runs: 30"
          ]
        },
        {
          "output_type": "execute_result",
          "data": {
            "text/plain": []
          },
          "metadata": {},
          "execution_count": 12
        }
      ]
    },
    {
      "cell_type": "markdown",
      "source": [
        "Execution Time = 55287.533333 μs"
      ],
      "metadata": {
        "id": "og1xrTxqOLy7"
      }
    },
    {
      "cell_type": "code",
      "source": [
        "%%shell\n",
        "nvcc dotproductCu.cu -o dotproductCu\n",
        "nvprof ./dotproductCu"
      ],
      "metadata": {
        "colab": {
          "base_uri": "https://localhost:8080/"
        },
        "id": "sLUxW_eTcPoD",
        "outputId": "53627cfe-f34b-431e-c00d-4bcba297c3e6"
      },
      "execution_count": null,
      "outputs": [
        {
          "output_type": "stream",
          "name": "stdout",
          "text": [
            "==6564== NVPROF is profiling process 6564, command: ./dotproductCu\n",
            "Dot Product = 123032912.000000 | Array Size = 16777216 | No. of Runs: 30\n",
            "==6564== Profiling application: ./dotproductCu\n",
            "==6564== Profiling result:\n",
            "            Type  Time(%)      Time     Calls       Avg       Min       Max  Name\n",
            " GPU activities:  100.00%  1.14746s        30  38.249ms  33.428ms  94.426ms  dotproduct(float*, int, float*, float*)\n",
            "      API calls:   72.87%  1.15649s        30  38.550ms  33.442ms  94.432ms  cudaDeviceSynchronize\n",
            "                   26.49%  420.37ms         3  140.12ms  27.070us  420.24ms  cudaMallocManaged\n",
            "                    0.49%  7.8375ms         3  2.6125ms  103.38us  4.0028ms  cudaFree\n",
            "                    0.09%  1.4173ms        30  47.244us  34.744us  80.032us  cudaLaunchKernel\n",
            "                    0.04%  629.78us         1  629.78us  629.78us  629.78us  cuDeviceTotalMem\n",
            "                    0.02%  280.23us       101  2.7740us     180ns  122.27us  cuDeviceGetAttribute\n",
            "                    0.00%  65.574us         1  65.574us  65.574us  65.574us  cuDeviceGetName\n",
            "                    0.00%  8.8890us         1  8.8890us  8.8890us  8.8890us  cuDeviceGetPCIBusId\n",
            "                    0.00%  2.5910us         3     863ns     288ns  1.8820us  cuDeviceGetCount\n",
            "                    0.00%  1.2850us         2     642ns     300ns     985ns  cuDeviceGet\n",
            "                    0.00%     417ns         1     417ns     417ns     417ns  cuDeviceGetUuid\n",
            "\n",
            "==6564== Unified Memory profiling result:\n",
            "Device \"Tesla T4 (0)\"\n",
            "   Count  Avg Size  Min Size  Max Size  Total Size  Total Time  Name\n",
            "     990  132.88KB  4.0000KB  992.00KB  128.4648MB  14.09967ms  Host To Device\n",
            "      36  13.333KB  4.0000KB  60.000KB  480.0000KB  87.00600us  Device To Host\n",
            "     220         -         -         -           -  51.08785ms  Gpu page fault groups\n",
            "      21  4.0000KB  4.0000KB  4.0000KB  84.00000KB           -  Memory thrashes\n",
            "Total CPU Page faults: 414\n",
            "Total CPU thrashes: 21\n"
          ]
        },
        {
          "output_type": "execute_result",
          "data": {
            "text/plain": []
          },
          "metadata": {},
          "execution_count": 13
        }
      ]
    },
    {
      "cell_type": "markdown",
      "source": [
        "Execution Time = 38249 μs"
      ],
      "metadata": {
        "id": "QdmSt_miOQTt"
      }
    },
    {
      "cell_type": "markdown",
      "source": [
        "\n",
        "\n",
        "\n",
        "| # of elements | C execution time (μs) |CUDA execution time (μs)|\n",
        "|  -----------  |      -----------      |      -----------       |\n",
        "| 1<<20         | 4132.766667           |   3915.1                |\n",
        "| 1<<22         | 13562.666667          |   13029.0                |\n",
        "| 1<<24         | 55287.533333          |   38249.0                  | \n"
      ],
      "metadata": {
        "id": "RX3SlwMG6eBF"
      }
    },
    {
      "cell_type": "code",
      "source": [],
      "metadata": {
        "id": "X0jR1NPHBK8W"
      },
      "execution_count": null,
      "outputs": []
    }
  ]
}